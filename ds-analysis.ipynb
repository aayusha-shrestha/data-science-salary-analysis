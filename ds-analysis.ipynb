{
 "cells": [
  {
   "cell_type": "markdown",
   "id": "06e996e8",
   "metadata": {},
   "source": [
    "# Data Preparation"
   ]
  },
  {
   "cell_type": "code",
   "execution_count": 4,
   "id": "6e551624",
   "metadata": {},
   "outputs": [],
   "source": [
    "# importing pandas library\n",
    "import pandas as pd"
   ]
  },
  {
   "cell_type": "code",
   "execution_count": 26,
   "id": "3ae48e5e",
   "metadata": {},
   "outputs": [],
   "source": [
    "# importing pyplot from matplotlib\n",
    "import matplotlib.pyplot as plt"
   ]
  },
  {
   "cell_type": "code",
   "execution_count": 27,
   "id": "95492627",
   "metadata": {},
   "outputs": [],
   "source": [
    "# importing seaborn library\n",
    "import seaborn as sns"
   ]
  },
  {
   "cell_type": "markdown",
   "id": "b7db2ae4",
   "metadata": {},
   "source": [
    "### Load data into pandas dataframe"
   ]
  },
  {
   "cell_type": "code",
   "execution_count": 5,
   "id": "93693b43",
   "metadata": {},
   "outputs": [],
   "source": [
    "# reading the csv file\n",
    "df_ds_salaries = pd.read_csv('DataScienceSalaries.csv')"
   ]
  },
  {
   "cell_type": "code",
   "execution_count": 6,
   "id": "a85c07d3",
   "metadata": {},
   "outputs": [
    {
     "data": {
      "text/html": [
       "<div>\n",
       "<style scoped>\n",
       "    .dataframe tbody tr th:only-of-type {\n",
       "        vertical-align: middle;\n",
       "    }\n",
       "\n",
       "    .dataframe tbody tr th {\n",
       "        vertical-align: top;\n",
       "    }\n",
       "\n",
       "    .dataframe thead th {\n",
       "        text-align: right;\n",
       "    }\n",
       "</style>\n",
       "<table border=\"1\" class=\"dataframe\">\n",
       "  <thead>\n",
       "    <tr style=\"text-align: right;\">\n",
       "      <th></th>\n",
       "      <th>work_year</th>\n",
       "      <th>experience_level</th>\n",
       "      <th>employment_type</th>\n",
       "      <th>job_title</th>\n",
       "      <th>salary</th>\n",
       "      <th>salary_currency</th>\n",
       "      <th>salary_in_usd</th>\n",
       "      <th>employee_residence</th>\n",
       "      <th>remote_ratio</th>\n",
       "      <th>company_location</th>\n",
       "      <th>company_size</th>\n",
       "    </tr>\n",
       "  </thead>\n",
       "  <tbody>\n",
       "    <tr>\n",
       "      <th>0</th>\n",
       "      <td>2023</td>\n",
       "      <td>SE</td>\n",
       "      <td>FT</td>\n",
       "      <td>Principal Data Scientist</td>\n",
       "      <td>80000</td>\n",
       "      <td>EUR</td>\n",
       "      <td>85847</td>\n",
       "      <td>ES</td>\n",
       "      <td>100</td>\n",
       "      <td>ES</td>\n",
       "      <td>L</td>\n",
       "    </tr>\n",
       "    <tr>\n",
       "      <th>1</th>\n",
       "      <td>2023</td>\n",
       "      <td>MI</td>\n",
       "      <td>CT</td>\n",
       "      <td>ML Engineer</td>\n",
       "      <td>30000</td>\n",
       "      <td>USD</td>\n",
       "      <td>30000</td>\n",
       "      <td>US</td>\n",
       "      <td>100</td>\n",
       "      <td>US</td>\n",
       "      <td>S</td>\n",
       "    </tr>\n",
       "    <tr>\n",
       "      <th>2</th>\n",
       "      <td>2023</td>\n",
       "      <td>MI</td>\n",
       "      <td>CT</td>\n",
       "      <td>ML Engineer</td>\n",
       "      <td>25500</td>\n",
       "      <td>USD</td>\n",
       "      <td>25500</td>\n",
       "      <td>US</td>\n",
       "      <td>100</td>\n",
       "      <td>US</td>\n",
       "      <td>S</td>\n",
       "    </tr>\n",
       "    <tr>\n",
       "      <th>3</th>\n",
       "      <td>2023</td>\n",
       "      <td>SE</td>\n",
       "      <td>FT</td>\n",
       "      <td>Data Scientist</td>\n",
       "      <td>175000</td>\n",
       "      <td>USD</td>\n",
       "      <td>175000</td>\n",
       "      <td>CA</td>\n",
       "      <td>100</td>\n",
       "      <td>CA</td>\n",
       "      <td>M</td>\n",
       "    </tr>\n",
       "    <tr>\n",
       "      <th>4</th>\n",
       "      <td>2023</td>\n",
       "      <td>SE</td>\n",
       "      <td>FT</td>\n",
       "      <td>Data Scientist</td>\n",
       "      <td>120000</td>\n",
       "      <td>USD</td>\n",
       "      <td>120000</td>\n",
       "      <td>CA</td>\n",
       "      <td>100</td>\n",
       "      <td>CA</td>\n",
       "      <td>M</td>\n",
       "    </tr>\n",
       "    <tr>\n",
       "      <th>...</th>\n",
       "      <td>...</td>\n",
       "      <td>...</td>\n",
       "      <td>...</td>\n",
       "      <td>...</td>\n",
       "      <td>...</td>\n",
       "      <td>...</td>\n",
       "      <td>...</td>\n",
       "      <td>...</td>\n",
       "      <td>...</td>\n",
       "      <td>...</td>\n",
       "      <td>...</td>\n",
       "    </tr>\n",
       "    <tr>\n",
       "      <th>3750</th>\n",
       "      <td>2020</td>\n",
       "      <td>SE</td>\n",
       "      <td>FT</td>\n",
       "      <td>Data Scientist</td>\n",
       "      <td>412000</td>\n",
       "      <td>USD</td>\n",
       "      <td>412000</td>\n",
       "      <td>US</td>\n",
       "      <td>100</td>\n",
       "      <td>US</td>\n",
       "      <td>L</td>\n",
       "    </tr>\n",
       "    <tr>\n",
       "      <th>3751</th>\n",
       "      <td>2021</td>\n",
       "      <td>MI</td>\n",
       "      <td>FT</td>\n",
       "      <td>Principal Data Scientist</td>\n",
       "      <td>151000</td>\n",
       "      <td>USD</td>\n",
       "      <td>151000</td>\n",
       "      <td>US</td>\n",
       "      <td>100</td>\n",
       "      <td>US</td>\n",
       "      <td>L</td>\n",
       "    </tr>\n",
       "    <tr>\n",
       "      <th>3752</th>\n",
       "      <td>2020</td>\n",
       "      <td>EN</td>\n",
       "      <td>FT</td>\n",
       "      <td>Data Scientist</td>\n",
       "      <td>105000</td>\n",
       "      <td>USD</td>\n",
       "      <td>105000</td>\n",
       "      <td>US</td>\n",
       "      <td>100</td>\n",
       "      <td>US</td>\n",
       "      <td>S</td>\n",
       "    </tr>\n",
       "    <tr>\n",
       "      <th>3753</th>\n",
       "      <td>2020</td>\n",
       "      <td>EN</td>\n",
       "      <td>CT</td>\n",
       "      <td>Business Data Analyst</td>\n",
       "      <td>100000</td>\n",
       "      <td>USD</td>\n",
       "      <td>100000</td>\n",
       "      <td>US</td>\n",
       "      <td>100</td>\n",
       "      <td>US</td>\n",
       "      <td>L</td>\n",
       "    </tr>\n",
       "    <tr>\n",
       "      <th>3754</th>\n",
       "      <td>2021</td>\n",
       "      <td>SE</td>\n",
       "      <td>FT</td>\n",
       "      <td>Data Science Manager</td>\n",
       "      <td>7000000</td>\n",
       "      <td>INR</td>\n",
       "      <td>94665</td>\n",
       "      <td>IN</td>\n",
       "      <td>50</td>\n",
       "      <td>IN</td>\n",
       "      <td>L</td>\n",
       "    </tr>\n",
       "  </tbody>\n",
       "</table>\n",
       "<p>3755 rows × 11 columns</p>\n",
       "</div>"
      ],
      "text/plain": [
       "      work_year experience_level employment_type                 job_title  \\\n",
       "0          2023               SE              FT  Principal Data Scientist   \n",
       "1          2023               MI              CT               ML Engineer   \n",
       "2          2023               MI              CT               ML Engineer   \n",
       "3          2023               SE              FT            Data Scientist   \n",
       "4          2023               SE              FT            Data Scientist   \n",
       "...         ...              ...             ...                       ...   \n",
       "3750       2020               SE              FT            Data Scientist   \n",
       "3751       2021               MI              FT  Principal Data Scientist   \n",
       "3752       2020               EN              FT            Data Scientist   \n",
       "3753       2020               EN              CT     Business Data Analyst   \n",
       "3754       2021               SE              FT      Data Science Manager   \n",
       "\n",
       "       salary salary_currency  salary_in_usd employee_residence  remote_ratio  \\\n",
       "0       80000             EUR          85847                 ES           100   \n",
       "1       30000             USD          30000                 US           100   \n",
       "2       25500             USD          25500                 US           100   \n",
       "3      175000             USD         175000                 CA           100   \n",
       "4      120000             USD         120000                 CA           100   \n",
       "...       ...             ...            ...                ...           ...   \n",
       "3750   412000             USD         412000                 US           100   \n",
       "3751   151000             USD         151000                 US           100   \n",
       "3752   105000             USD         105000                 US           100   \n",
       "3753   100000             USD         100000                 US           100   \n",
       "3754  7000000             INR          94665                 IN            50   \n",
       "\n",
       "     company_location company_size  \n",
       "0                  ES            L  \n",
       "1                  US            S  \n",
       "2                  US            S  \n",
       "3                  CA            M  \n",
       "4                  CA            M  \n",
       "...               ...          ...  \n",
       "3750               US            L  \n",
       "3751               US            L  \n",
       "3752               US            S  \n",
       "3753               US            L  \n",
       "3754               IN            L  \n",
       "\n",
       "[3755 rows x 11 columns]"
      ]
     },
     "execution_count": 6,
     "metadata": {},
     "output_type": "execute_result"
    }
   ],
   "source": [
    "# displaying the data frame\n",
    "df_ds_salaries"
   ]
  },
  {
   "cell_type": "markdown",
   "id": "35e948a7",
   "metadata": {},
   "source": [
    "### Data Understanding"
   ]
  },
  {
   "cell_type": "code",
   "execution_count": 30,
   "id": "ca3893ec",
   "metadata": {},
   "outputs": [
    {
     "name": "stdout",
     "output_type": "stream",
     "text": [
      "<class 'pandas.core.frame.DataFrame'>\n",
      "RangeIndex: 3755 entries, 0 to 3754\n",
      "Data columns (total 11 columns):\n",
      " #   Column              Non-Null Count  Dtype \n",
      "---  ------              --------------  ----- \n",
      " 0   work_year           3755 non-null   int64 \n",
      " 1   experience_level    3755 non-null   object\n",
      " 2   employment_type     3755 non-null   object\n",
      " 3   job_title           3755 non-null   object\n",
      " 4   salary              3755 non-null   int64 \n",
      " 5   salary_currency     3755 non-null   object\n",
      " 6   salary_in_usd       3755 non-null   int64 \n",
      " 7   employee_residence  3755 non-null   object\n",
      " 8   remote_ratio        3755 non-null   int64 \n",
      " 9   company_location    3755 non-null   object\n",
      " 10  company_size        3755 non-null   object\n",
      "dtypes: int64(4), object(7)\n",
      "memory usage: 322.8+ KB\n"
     ]
    }
   ],
   "source": [
    "# understanding the data type\n",
    "df_ds_salaries.info()"
   ]
  },
  {
   "cell_type": "code",
   "execution_count": 31,
   "id": "9df28f93",
   "metadata": {},
   "outputs": [
    {
     "data": {
      "text/plain": [
       "array([2023, 2022, 2020, 2021], dtype=int64)"
      ]
     },
     "execution_count": 31,
     "metadata": {},
     "output_type": "execute_result"
    }
   ],
   "source": [
    "# unique work year\n",
    "df_ds_salaries['work_year'].unique()"
   ]
  },
  {
   "cell_type": "code",
   "execution_count": 131,
   "id": "f5f5853e",
   "metadata": {},
   "outputs": [
    {
     "data": {
      "text/plain": [
       "array(['Senior Level', 'Medium Level', 'Entry Level', 'Executive Level'],\n",
       "      dtype=object)"
      ]
     },
     "execution_count": 131,
     "metadata": {},
     "output_type": "execute_result"
    }
   ],
   "source": [
    "# unique experience level\n",
    "df_ds_salaries['experience_level'].unique()"
   ]
  },
  {
   "cell_type": "code",
   "execution_count": 132,
   "id": "962bc9a5",
   "metadata": {},
   "outputs": [
    {
     "data": {
      "text/plain": [
       "array(['FT', 'CT', 'FL', 'PT'], dtype=object)"
      ]
     },
     "execution_count": 132,
     "metadata": {},
     "output_type": "execute_result"
    }
   ],
   "source": [
    "# unique employment type\n",
    "df_ds_salaries['employment_type'].unique()"
   ]
  },
  {
   "cell_type": "code",
   "execution_count": 139,
   "id": "9556da4f",
   "metadata": {},
   "outputs": [
    {
     "data": {
      "text/plain": [
       "93"
      ]
     },
     "execution_count": 139,
     "metadata": {},
     "output_type": "execute_result"
    }
   ],
   "source": [
    "# unique job title\n",
    "len(df_ds_salaries['job_title'].unique())"
   ]
  },
  {
   "cell_type": "code",
   "execution_count": 141,
   "id": "fab9da69",
   "metadata": {},
   "outputs": [
    {
     "data": {
      "text/plain": [
       "array(['EUR', 'USD', 'INR', 'HKD', 'CHF', 'GBP', 'AUD', 'SGD', 'CAD',\n",
       "       'ILS', 'BRL', 'THB', 'PLN', 'HUF', 'CZK', 'DKK', 'JPY', 'MXN',\n",
       "       'TRY', 'CLP'], dtype=object)"
      ]
     },
     "execution_count": 141,
     "metadata": {},
     "output_type": "execute_result"
    }
   ],
   "source": [
    "# unique salary currency\n",
    "df_ds_salaries['salary_currency'].unique()"
   ]
  },
  {
   "cell_type": "code",
   "execution_count": 10,
   "id": "24aa590e",
   "metadata": {},
   "outputs": [
    {
     "data": {
      "text/plain": [
       "78"
      ]
     },
     "execution_count": 10,
     "metadata": {},
     "output_type": "execute_result"
    }
   ],
   "source": [
    "# unique employee residence\n",
    "len(df_ds_salaries['employee_residence'].unique())"
   ]
  },
  {
   "cell_type": "code",
   "execution_count": 14,
   "id": "aa46919e",
   "metadata": {},
   "outputs": [
    {
     "data": {
      "text/plain": [
       "72"
      ]
     },
     "execution_count": 14,
     "metadata": {},
     "output_type": "execute_result"
    }
   ],
   "source": [
    "# unique company location\n",
    "len(df_ds_salaries['company_location'].unique())"
   ]
  },
  {
   "cell_type": "code",
   "execution_count": 12,
   "id": "ec781738",
   "metadata": {},
   "outputs": [
    {
     "data": {
      "text/plain": [
       "array(['L', 'S', 'M'], dtype=object)"
      ]
     },
     "execution_count": 12,
     "metadata": {},
     "output_type": "execute_result"
    }
   ],
   "source": [
    "# unique company size\n",
    "df_ds_salaries['company_size'].unique()"
   ]
  },
  {
   "cell_type": "code",
   "execution_count": 31,
   "id": "c3dd00ad",
   "metadata": {},
   "outputs": [
    {
     "data": {
      "text/plain": [
       "work_year             0\n",
       "experience_level      0\n",
       "employment_type       0\n",
       "job_title             0\n",
       "salary                0\n",
       "salary_currency       0\n",
       "salary_in_usd         0\n",
       "employee_residence    0\n",
       "remote_ratio          0\n",
       "company_location      0\n",
       "company_size          0\n",
       "dtype: int64"
      ]
     },
     "execution_count": 31,
     "metadata": {},
     "output_type": "execute_result"
    }
   ],
   "source": [
    "# caluclating the total null values in each column\n",
    "df_ds_salaries.isna().sum()"
   ]
  },
  {
   "cell_type": "markdown",
   "id": "9782b30c",
   "metadata": {},
   "source": [
    "### Remove unnecessary columns"
   ]
  },
  {
   "cell_type": "code",
   "execution_count": 17,
   "id": "38247e24",
   "metadata": {},
   "outputs": [
    {
     "data": {
      "text/plain": [
       "Index(['work_year', 'experience_level', 'employment_type', 'job_title',\n",
       "       'salary', 'salary_currency', 'salary_in_usd', 'employee_residence',\n",
       "       'remote_ratio', 'company_location', 'company_size'],\n",
       "      dtype='object')"
      ]
     },
     "execution_count": 17,
     "metadata": {},
     "output_type": "execute_result"
    }
   ],
   "source": [
    "# viewing the columns\n",
    "df_ds_salaries.columns"
   ]
  },
  {
   "cell_type": "code",
   "execution_count": 18,
   "id": "72e492a4",
   "metadata": {
    "scrolled": false
   },
   "outputs": [
    {
     "data": {
      "text/html": [
       "<div>\n",
       "<style scoped>\n",
       "    .dataframe tbody tr th:only-of-type {\n",
       "        vertical-align: middle;\n",
       "    }\n",
       "\n",
       "    .dataframe tbody tr th {\n",
       "        vertical-align: top;\n",
       "    }\n",
       "\n",
       "    .dataframe thead th {\n",
       "        text-align: right;\n",
       "    }\n",
       "</style>\n",
       "<table border=\"1\" class=\"dataframe\">\n",
       "  <thead>\n",
       "    <tr style=\"text-align: right;\">\n",
       "      <th></th>\n",
       "      <th>work_year</th>\n",
       "      <th>experience_level</th>\n",
       "      <th>employment_type</th>\n",
       "      <th>job_title</th>\n",
       "      <th>salary_in_usd</th>\n",
       "      <th>employee_residence</th>\n",
       "      <th>remote_ratio</th>\n",
       "      <th>company_location</th>\n",
       "      <th>company_size</th>\n",
       "    </tr>\n",
       "  </thead>\n",
       "  <tbody>\n",
       "    <tr>\n",
       "      <th>0</th>\n",
       "      <td>2023</td>\n",
       "      <td>SE</td>\n",
       "      <td>FT</td>\n",
       "      <td>Principal Data Scientist</td>\n",
       "      <td>85847</td>\n",
       "      <td>ES</td>\n",
       "      <td>100</td>\n",
       "      <td>ES</td>\n",
       "      <td>L</td>\n",
       "    </tr>\n",
       "    <tr>\n",
       "      <th>1</th>\n",
       "      <td>2023</td>\n",
       "      <td>MI</td>\n",
       "      <td>CT</td>\n",
       "      <td>ML Engineer</td>\n",
       "      <td>30000</td>\n",
       "      <td>US</td>\n",
       "      <td>100</td>\n",
       "      <td>US</td>\n",
       "      <td>S</td>\n",
       "    </tr>\n",
       "    <tr>\n",
       "      <th>2</th>\n",
       "      <td>2023</td>\n",
       "      <td>MI</td>\n",
       "      <td>CT</td>\n",
       "      <td>ML Engineer</td>\n",
       "      <td>25500</td>\n",
       "      <td>US</td>\n",
       "      <td>100</td>\n",
       "      <td>US</td>\n",
       "      <td>S</td>\n",
       "    </tr>\n",
       "    <tr>\n",
       "      <th>3</th>\n",
       "      <td>2023</td>\n",
       "      <td>SE</td>\n",
       "      <td>FT</td>\n",
       "      <td>Data Scientist</td>\n",
       "      <td>175000</td>\n",
       "      <td>CA</td>\n",
       "      <td>100</td>\n",
       "      <td>CA</td>\n",
       "      <td>M</td>\n",
       "    </tr>\n",
       "    <tr>\n",
       "      <th>4</th>\n",
       "      <td>2023</td>\n",
       "      <td>SE</td>\n",
       "      <td>FT</td>\n",
       "      <td>Data Scientist</td>\n",
       "      <td>120000</td>\n",
       "      <td>CA</td>\n",
       "      <td>100</td>\n",
       "      <td>CA</td>\n",
       "      <td>M</td>\n",
       "    </tr>\n",
       "    <tr>\n",
       "      <th>...</th>\n",
       "      <td>...</td>\n",
       "      <td>...</td>\n",
       "      <td>...</td>\n",
       "      <td>...</td>\n",
       "      <td>...</td>\n",
       "      <td>...</td>\n",
       "      <td>...</td>\n",
       "      <td>...</td>\n",
       "      <td>...</td>\n",
       "    </tr>\n",
       "    <tr>\n",
       "      <th>3750</th>\n",
       "      <td>2020</td>\n",
       "      <td>SE</td>\n",
       "      <td>FT</td>\n",
       "      <td>Data Scientist</td>\n",
       "      <td>412000</td>\n",
       "      <td>US</td>\n",
       "      <td>100</td>\n",
       "      <td>US</td>\n",
       "      <td>L</td>\n",
       "    </tr>\n",
       "    <tr>\n",
       "      <th>3751</th>\n",
       "      <td>2021</td>\n",
       "      <td>MI</td>\n",
       "      <td>FT</td>\n",
       "      <td>Principal Data Scientist</td>\n",
       "      <td>151000</td>\n",
       "      <td>US</td>\n",
       "      <td>100</td>\n",
       "      <td>US</td>\n",
       "      <td>L</td>\n",
       "    </tr>\n",
       "    <tr>\n",
       "      <th>3752</th>\n",
       "      <td>2020</td>\n",
       "      <td>EN</td>\n",
       "      <td>FT</td>\n",
       "      <td>Data Scientist</td>\n",
       "      <td>105000</td>\n",
       "      <td>US</td>\n",
       "      <td>100</td>\n",
       "      <td>US</td>\n",
       "      <td>S</td>\n",
       "    </tr>\n",
       "    <tr>\n",
       "      <th>3753</th>\n",
       "      <td>2020</td>\n",
       "      <td>EN</td>\n",
       "      <td>CT</td>\n",
       "      <td>Business Data Analyst</td>\n",
       "      <td>100000</td>\n",
       "      <td>US</td>\n",
       "      <td>100</td>\n",
       "      <td>US</td>\n",
       "      <td>L</td>\n",
       "    </tr>\n",
       "    <tr>\n",
       "      <th>3754</th>\n",
       "      <td>2021</td>\n",
       "      <td>SE</td>\n",
       "      <td>FT</td>\n",
       "      <td>Data Science Manager</td>\n",
       "      <td>94665</td>\n",
       "      <td>IN</td>\n",
       "      <td>50</td>\n",
       "      <td>IN</td>\n",
       "      <td>L</td>\n",
       "    </tr>\n",
       "  </tbody>\n",
       "</table>\n",
       "<p>3755 rows × 9 columns</p>\n",
       "</div>"
      ],
      "text/plain": [
       "      work_year experience_level employment_type                 job_title  \\\n",
       "0          2023               SE              FT  Principal Data Scientist   \n",
       "1          2023               MI              CT               ML Engineer   \n",
       "2          2023               MI              CT               ML Engineer   \n",
       "3          2023               SE              FT            Data Scientist   \n",
       "4          2023               SE              FT            Data Scientist   \n",
       "...         ...              ...             ...                       ...   \n",
       "3750       2020               SE              FT            Data Scientist   \n",
       "3751       2021               MI              FT  Principal Data Scientist   \n",
       "3752       2020               EN              FT            Data Scientist   \n",
       "3753       2020               EN              CT     Business Data Analyst   \n",
       "3754       2021               SE              FT      Data Science Manager   \n",
       "\n",
       "      salary_in_usd employee_residence  remote_ratio company_location  \\\n",
       "0             85847                 ES           100               ES   \n",
       "1             30000                 US           100               US   \n",
       "2             25500                 US           100               US   \n",
       "3            175000                 CA           100               CA   \n",
       "4            120000                 CA           100               CA   \n",
       "...             ...                ...           ...              ...   \n",
       "3750         412000                 US           100               US   \n",
       "3751         151000                 US           100               US   \n",
       "3752         105000                 US           100               US   \n",
       "3753         100000                 US           100               US   \n",
       "3754          94665                 IN            50               IN   \n",
       "\n",
       "     company_size  \n",
       "0               L  \n",
       "1               S  \n",
       "2               S  \n",
       "3               M  \n",
       "4               M  \n",
       "...           ...  \n",
       "3750            L  \n",
       "3751            L  \n",
       "3752            S  \n",
       "3753            L  \n",
       "3754            L  \n",
       "\n",
       "[3755 rows x 9 columns]"
      ]
     },
     "execution_count": 18,
     "metadata": {},
     "output_type": "execute_result"
    }
   ],
   "source": [
    "# removing specified columns\n",
    "df_ds_salaries.drop(columns = ['salary', 'salary_currency'])"
   ]
  },
  {
   "cell_type": "markdown",
   "id": "c11746ca",
   "metadata": {},
   "source": [
    "### Remove NaN missing values"
   ]
  },
  {
   "cell_type": "code",
   "execution_count": 19,
   "id": "f8bbeb1e",
   "metadata": {
    "scrolled": false
   },
   "outputs": [
    {
     "data": {
      "text/html": [
       "<div>\n",
       "<style scoped>\n",
       "    .dataframe tbody tr th:only-of-type {\n",
       "        vertical-align: middle;\n",
       "    }\n",
       "\n",
       "    .dataframe tbody tr th {\n",
       "        vertical-align: top;\n",
       "    }\n",
       "\n",
       "    .dataframe thead th {\n",
       "        text-align: right;\n",
       "    }\n",
       "</style>\n",
       "<table border=\"1\" class=\"dataframe\">\n",
       "  <thead>\n",
       "    <tr style=\"text-align: right;\">\n",
       "      <th></th>\n",
       "      <th>work_year</th>\n",
       "      <th>experience_level</th>\n",
       "      <th>employment_type</th>\n",
       "      <th>job_title</th>\n",
       "      <th>salary</th>\n",
       "      <th>salary_currency</th>\n",
       "      <th>salary_in_usd</th>\n",
       "      <th>employee_residence</th>\n",
       "      <th>remote_ratio</th>\n",
       "      <th>company_location</th>\n",
       "      <th>company_size</th>\n",
       "    </tr>\n",
       "  </thead>\n",
       "  <tbody>\n",
       "    <tr>\n",
       "      <th>0</th>\n",
       "      <td>False</td>\n",
       "      <td>False</td>\n",
       "      <td>False</td>\n",
       "      <td>False</td>\n",
       "      <td>False</td>\n",
       "      <td>False</td>\n",
       "      <td>False</td>\n",
       "      <td>False</td>\n",
       "      <td>False</td>\n",
       "      <td>False</td>\n",
       "      <td>False</td>\n",
       "    </tr>\n",
       "    <tr>\n",
       "      <th>1</th>\n",
       "      <td>False</td>\n",
       "      <td>False</td>\n",
       "      <td>False</td>\n",
       "      <td>False</td>\n",
       "      <td>False</td>\n",
       "      <td>False</td>\n",
       "      <td>False</td>\n",
       "      <td>False</td>\n",
       "      <td>False</td>\n",
       "      <td>False</td>\n",
       "      <td>False</td>\n",
       "    </tr>\n",
       "    <tr>\n",
       "      <th>2</th>\n",
       "      <td>False</td>\n",
       "      <td>False</td>\n",
       "      <td>False</td>\n",
       "      <td>False</td>\n",
       "      <td>False</td>\n",
       "      <td>False</td>\n",
       "      <td>False</td>\n",
       "      <td>False</td>\n",
       "      <td>False</td>\n",
       "      <td>False</td>\n",
       "      <td>False</td>\n",
       "    </tr>\n",
       "    <tr>\n",
       "      <th>3</th>\n",
       "      <td>False</td>\n",
       "      <td>False</td>\n",
       "      <td>False</td>\n",
       "      <td>False</td>\n",
       "      <td>False</td>\n",
       "      <td>False</td>\n",
       "      <td>False</td>\n",
       "      <td>False</td>\n",
       "      <td>False</td>\n",
       "      <td>False</td>\n",
       "      <td>False</td>\n",
       "    </tr>\n",
       "    <tr>\n",
       "      <th>4</th>\n",
       "      <td>False</td>\n",
       "      <td>False</td>\n",
       "      <td>False</td>\n",
       "      <td>False</td>\n",
       "      <td>False</td>\n",
       "      <td>False</td>\n",
       "      <td>False</td>\n",
       "      <td>False</td>\n",
       "      <td>False</td>\n",
       "      <td>False</td>\n",
       "      <td>False</td>\n",
       "    </tr>\n",
       "    <tr>\n",
       "      <th>...</th>\n",
       "      <td>...</td>\n",
       "      <td>...</td>\n",
       "      <td>...</td>\n",
       "      <td>...</td>\n",
       "      <td>...</td>\n",
       "      <td>...</td>\n",
       "      <td>...</td>\n",
       "      <td>...</td>\n",
       "      <td>...</td>\n",
       "      <td>...</td>\n",
       "      <td>...</td>\n",
       "    </tr>\n",
       "    <tr>\n",
       "      <th>3750</th>\n",
       "      <td>False</td>\n",
       "      <td>False</td>\n",
       "      <td>False</td>\n",
       "      <td>False</td>\n",
       "      <td>False</td>\n",
       "      <td>False</td>\n",
       "      <td>False</td>\n",
       "      <td>False</td>\n",
       "      <td>False</td>\n",
       "      <td>False</td>\n",
       "      <td>False</td>\n",
       "    </tr>\n",
       "    <tr>\n",
       "      <th>3751</th>\n",
       "      <td>False</td>\n",
       "      <td>False</td>\n",
       "      <td>False</td>\n",
       "      <td>False</td>\n",
       "      <td>False</td>\n",
       "      <td>False</td>\n",
       "      <td>False</td>\n",
       "      <td>False</td>\n",
       "      <td>False</td>\n",
       "      <td>False</td>\n",
       "      <td>False</td>\n",
       "    </tr>\n",
       "    <tr>\n",
       "      <th>3752</th>\n",
       "      <td>False</td>\n",
       "      <td>False</td>\n",
       "      <td>False</td>\n",
       "      <td>False</td>\n",
       "      <td>False</td>\n",
       "      <td>False</td>\n",
       "      <td>False</td>\n",
       "      <td>False</td>\n",
       "      <td>False</td>\n",
       "      <td>False</td>\n",
       "      <td>False</td>\n",
       "    </tr>\n",
       "    <tr>\n",
       "      <th>3753</th>\n",
       "      <td>False</td>\n",
       "      <td>False</td>\n",
       "      <td>False</td>\n",
       "      <td>False</td>\n",
       "      <td>False</td>\n",
       "      <td>False</td>\n",
       "      <td>False</td>\n",
       "      <td>False</td>\n",
       "      <td>False</td>\n",
       "      <td>False</td>\n",
       "      <td>False</td>\n",
       "    </tr>\n",
       "    <tr>\n",
       "      <th>3754</th>\n",
       "      <td>False</td>\n",
       "      <td>False</td>\n",
       "      <td>False</td>\n",
       "      <td>False</td>\n",
       "      <td>False</td>\n",
       "      <td>False</td>\n",
       "      <td>False</td>\n",
       "      <td>False</td>\n",
       "      <td>False</td>\n",
       "      <td>False</td>\n",
       "      <td>False</td>\n",
       "    </tr>\n",
       "  </tbody>\n",
       "</table>\n",
       "<p>3755 rows × 11 columns</p>\n",
       "</div>"
      ],
      "text/plain": [
       "      work_year  experience_level  employment_type  job_title  salary  \\\n",
       "0         False             False            False      False   False   \n",
       "1         False             False            False      False   False   \n",
       "2         False             False            False      False   False   \n",
       "3         False             False            False      False   False   \n",
       "4         False             False            False      False   False   \n",
       "...         ...               ...              ...        ...     ...   \n",
       "3750      False             False            False      False   False   \n",
       "3751      False             False            False      False   False   \n",
       "3752      False             False            False      False   False   \n",
       "3753      False             False            False      False   False   \n",
       "3754      False             False            False      False   False   \n",
       "\n",
       "      salary_currency  salary_in_usd  employee_residence  remote_ratio  \\\n",
       "0               False          False               False         False   \n",
       "1               False          False               False         False   \n",
       "2               False          False               False         False   \n",
       "3               False          False               False         False   \n",
       "4               False          False               False         False   \n",
       "...               ...            ...                 ...           ...   \n",
       "3750            False          False               False         False   \n",
       "3751            False          False               False         False   \n",
       "3752            False          False               False         False   \n",
       "3753            False          False               False         False   \n",
       "3754            False          False               False         False   \n",
       "\n",
       "      company_location  company_size  \n",
       "0                False         False  \n",
       "1                False         False  \n",
       "2                False         False  \n",
       "3                False         False  \n",
       "4                False         False  \n",
       "...                ...           ...  \n",
       "3750             False         False  \n",
       "3751             False         False  \n",
       "3752             False         False  \n",
       "3753             False         False  \n",
       "3754             False         False  \n",
       "\n",
       "[3755 rows x 11 columns]"
      ]
     },
     "execution_count": 19,
     "metadata": {},
     "output_type": "execute_result"
    }
   ],
   "source": [
    "# checking for null values in each column\n",
    "df_ds_salaries.isna()"
   ]
  },
  {
   "cell_type": "code",
   "execution_count": 39,
   "id": "ad1fc451",
   "metadata": {},
   "outputs": [
    {
     "data": {
      "text/plain": [
       "work_year             0\n",
       "experience_level      0\n",
       "employment_type       0\n",
       "job_title             0\n",
       "salary                0\n",
       "salary_currency       0\n",
       "salary_in_usd         0\n",
       "employee_residence    0\n",
       "remote_ratio          0\n",
       "company_location      0\n",
       "company_size          0\n",
       "dtype: int64"
      ]
     },
     "execution_count": 39,
     "metadata": {},
     "output_type": "execute_result"
    }
   ],
   "source": [
    "# caluclating the total missing values in each column\n",
    "df_ds_salaries.isna().sum()"
   ]
  },
  {
   "cell_type": "code",
   "execution_count": 42,
   "id": "b16fd404",
   "metadata": {
    "scrolled": false
   },
   "outputs": [
    {
     "data": {
      "text/html": [
       "<div>\n",
       "<style scoped>\n",
       "    .dataframe tbody tr th:only-of-type {\n",
       "        vertical-align: middle;\n",
       "    }\n",
       "\n",
       "    .dataframe tbody tr th {\n",
       "        vertical-align: top;\n",
       "    }\n",
       "\n",
       "    .dataframe thead th {\n",
       "        text-align: right;\n",
       "    }\n",
       "</style>\n",
       "<table border=\"1\" class=\"dataframe\">\n",
       "  <thead>\n",
       "    <tr style=\"text-align: right;\">\n",
       "      <th></th>\n",
       "      <th>work_year</th>\n",
       "      <th>experience_level</th>\n",
       "      <th>employment_type</th>\n",
       "      <th>job_title</th>\n",
       "      <th>salary</th>\n",
       "      <th>salary_currency</th>\n",
       "      <th>salary_in_usd</th>\n",
       "      <th>employee_residence</th>\n",
       "      <th>remote_ratio</th>\n",
       "      <th>company_location</th>\n",
       "      <th>company_size</th>\n",
       "    </tr>\n",
       "  </thead>\n",
       "  <tbody>\n",
       "    <tr>\n",
       "      <th>0</th>\n",
       "      <td>2023</td>\n",
       "      <td>SE</td>\n",
       "      <td>FT</td>\n",
       "      <td>Principal Data Scientist</td>\n",
       "      <td>80000</td>\n",
       "      <td>EUR</td>\n",
       "      <td>85847</td>\n",
       "      <td>ES</td>\n",
       "      <td>100</td>\n",
       "      <td>ES</td>\n",
       "      <td>L</td>\n",
       "    </tr>\n",
       "    <tr>\n",
       "      <th>1</th>\n",
       "      <td>2023</td>\n",
       "      <td>MI</td>\n",
       "      <td>CT</td>\n",
       "      <td>ML Engineer</td>\n",
       "      <td>30000</td>\n",
       "      <td>USD</td>\n",
       "      <td>30000</td>\n",
       "      <td>US</td>\n",
       "      <td>100</td>\n",
       "      <td>US</td>\n",
       "      <td>S</td>\n",
       "    </tr>\n",
       "    <tr>\n",
       "      <th>2</th>\n",
       "      <td>2023</td>\n",
       "      <td>MI</td>\n",
       "      <td>CT</td>\n",
       "      <td>ML Engineer</td>\n",
       "      <td>25500</td>\n",
       "      <td>USD</td>\n",
       "      <td>25500</td>\n",
       "      <td>US</td>\n",
       "      <td>100</td>\n",
       "      <td>US</td>\n",
       "      <td>S</td>\n",
       "    </tr>\n",
       "    <tr>\n",
       "      <th>3</th>\n",
       "      <td>2023</td>\n",
       "      <td>SE</td>\n",
       "      <td>FT</td>\n",
       "      <td>Data Scientist</td>\n",
       "      <td>175000</td>\n",
       "      <td>USD</td>\n",
       "      <td>175000</td>\n",
       "      <td>CA</td>\n",
       "      <td>100</td>\n",
       "      <td>CA</td>\n",
       "      <td>M</td>\n",
       "    </tr>\n",
       "    <tr>\n",
       "      <th>4</th>\n",
       "      <td>2023</td>\n",
       "      <td>SE</td>\n",
       "      <td>FT</td>\n",
       "      <td>Data Scientist</td>\n",
       "      <td>120000</td>\n",
       "      <td>USD</td>\n",
       "      <td>120000</td>\n",
       "      <td>CA</td>\n",
       "      <td>100</td>\n",
       "      <td>CA</td>\n",
       "      <td>M</td>\n",
       "    </tr>\n",
       "    <tr>\n",
       "      <th>...</th>\n",
       "      <td>...</td>\n",
       "      <td>...</td>\n",
       "      <td>...</td>\n",
       "      <td>...</td>\n",
       "      <td>...</td>\n",
       "      <td>...</td>\n",
       "      <td>...</td>\n",
       "      <td>...</td>\n",
       "      <td>...</td>\n",
       "      <td>...</td>\n",
       "      <td>...</td>\n",
       "    </tr>\n",
       "    <tr>\n",
       "      <th>3750</th>\n",
       "      <td>2020</td>\n",
       "      <td>SE</td>\n",
       "      <td>FT</td>\n",
       "      <td>Data Scientist</td>\n",
       "      <td>412000</td>\n",
       "      <td>USD</td>\n",
       "      <td>412000</td>\n",
       "      <td>US</td>\n",
       "      <td>100</td>\n",
       "      <td>US</td>\n",
       "      <td>L</td>\n",
       "    </tr>\n",
       "    <tr>\n",
       "      <th>3751</th>\n",
       "      <td>2021</td>\n",
       "      <td>MI</td>\n",
       "      <td>FT</td>\n",
       "      <td>Principal Data Scientist</td>\n",
       "      <td>151000</td>\n",
       "      <td>USD</td>\n",
       "      <td>151000</td>\n",
       "      <td>US</td>\n",
       "      <td>100</td>\n",
       "      <td>US</td>\n",
       "      <td>L</td>\n",
       "    </tr>\n",
       "    <tr>\n",
       "      <th>3752</th>\n",
       "      <td>2020</td>\n",
       "      <td>EN</td>\n",
       "      <td>FT</td>\n",
       "      <td>Data Scientist</td>\n",
       "      <td>105000</td>\n",
       "      <td>USD</td>\n",
       "      <td>105000</td>\n",
       "      <td>US</td>\n",
       "      <td>100</td>\n",
       "      <td>US</td>\n",
       "      <td>S</td>\n",
       "    </tr>\n",
       "    <tr>\n",
       "      <th>3753</th>\n",
       "      <td>2020</td>\n",
       "      <td>EN</td>\n",
       "      <td>CT</td>\n",
       "      <td>Business Data Analyst</td>\n",
       "      <td>100000</td>\n",
       "      <td>USD</td>\n",
       "      <td>100000</td>\n",
       "      <td>US</td>\n",
       "      <td>100</td>\n",
       "      <td>US</td>\n",
       "      <td>L</td>\n",
       "    </tr>\n",
       "    <tr>\n",
       "      <th>3754</th>\n",
       "      <td>2021</td>\n",
       "      <td>SE</td>\n",
       "      <td>FT</td>\n",
       "      <td>Data Science Manager</td>\n",
       "      <td>7000000</td>\n",
       "      <td>INR</td>\n",
       "      <td>94665</td>\n",
       "      <td>IN</td>\n",
       "      <td>50</td>\n",
       "      <td>IN</td>\n",
       "      <td>L</td>\n",
       "    </tr>\n",
       "  </tbody>\n",
       "</table>\n",
       "<p>3755 rows × 11 columns</p>\n",
       "</div>"
      ],
      "text/plain": [
       "      work_year experience_level employment_type                 job_title  \\\n",
       "0          2023               SE              FT  Principal Data Scientist   \n",
       "1          2023               MI              CT               ML Engineer   \n",
       "2          2023               MI              CT               ML Engineer   \n",
       "3          2023               SE              FT            Data Scientist   \n",
       "4          2023               SE              FT            Data Scientist   \n",
       "...         ...              ...             ...                       ...   \n",
       "3750       2020               SE              FT            Data Scientist   \n",
       "3751       2021               MI              FT  Principal Data Scientist   \n",
       "3752       2020               EN              FT            Data Scientist   \n",
       "3753       2020               EN              CT     Business Data Analyst   \n",
       "3754       2021               SE              FT      Data Science Manager   \n",
       "\n",
       "       salary salary_currency  salary_in_usd employee_residence  remote_ratio  \\\n",
       "0       80000             EUR          85847                 ES           100   \n",
       "1       30000             USD          30000                 US           100   \n",
       "2       25500             USD          25500                 US           100   \n",
       "3      175000             USD         175000                 CA           100   \n",
       "4      120000             USD         120000                 CA           100   \n",
       "...       ...             ...            ...                ...           ...   \n",
       "3750   412000             USD         412000                 US           100   \n",
       "3751   151000             USD         151000                 US           100   \n",
       "3752   105000             USD         105000                 US           100   \n",
       "3753   100000             USD         100000                 US           100   \n",
       "3754  7000000             INR          94665                 IN            50   \n",
       "\n",
       "     company_location company_size  \n",
       "0                  ES            L  \n",
       "1                  US            S  \n",
       "2                  US            S  \n",
       "3                  CA            M  \n",
       "4                  CA            M  \n",
       "...               ...          ...  \n",
       "3750               US            L  \n",
       "3751               US            L  \n",
       "3752               US            S  \n",
       "3753               US            L  \n",
       "3754               IN            L  \n",
       "\n",
       "[3755 rows x 11 columns]"
      ]
     },
     "execution_count": 42,
     "metadata": {},
     "output_type": "execute_result"
    }
   ],
   "source": [
    "# removing missing values\n",
    "df_ds_salaries.dropna()"
   ]
  },
  {
   "cell_type": "code",
   "execution_count": 43,
   "id": "ea13eb2a",
   "metadata": {},
   "outputs": [],
   "source": [
    "# removing missing values in the original data frame\n",
    "df_ds_salaries.dropna(inplace = True)"
   ]
  },
  {
   "cell_type": "markdown",
   "id": "c2f5afb6",
   "metadata": {},
   "source": [
    "### Check duplicate values in the dataframe"
   ]
  },
  {
   "cell_type": "code",
   "execution_count": 21,
   "id": "23170a7b",
   "metadata": {},
   "outputs": [
    {
     "data": {
      "text/plain": [
       "0       False\n",
       "1       False\n",
       "2       False\n",
       "3       False\n",
       "4       False\n",
       "        ...  \n",
       "3750    False\n",
       "3751    False\n",
       "3752    False\n",
       "3753    False\n",
       "3754    False\n",
       "Length: 3755, dtype: bool"
      ]
     },
     "execution_count": 21,
     "metadata": {},
     "output_type": "execute_result"
    }
   ],
   "source": [
    "# checking for duplicate values in the dataframe\n",
    "df_ds_salaries.duplicated()"
   ]
  },
  {
   "cell_type": "code",
   "execution_count": 22,
   "id": "38d76546",
   "metadata": {
    "scrolled": false
   },
   "outputs": [
    {
     "data": {
      "text/html": [
       "<div>\n",
       "<style scoped>\n",
       "    .dataframe tbody tr th:only-of-type {\n",
       "        vertical-align: middle;\n",
       "    }\n",
       "\n",
       "    .dataframe tbody tr th {\n",
       "        vertical-align: top;\n",
       "    }\n",
       "\n",
       "    .dataframe thead th {\n",
       "        text-align: right;\n",
       "    }\n",
       "</style>\n",
       "<table border=\"1\" class=\"dataframe\">\n",
       "  <thead>\n",
       "    <tr style=\"text-align: right;\">\n",
       "      <th></th>\n",
       "      <th>work_year</th>\n",
       "      <th>experience_level</th>\n",
       "      <th>employment_type</th>\n",
       "      <th>job_title</th>\n",
       "      <th>salary</th>\n",
       "      <th>salary_currency</th>\n",
       "      <th>salary_in_usd</th>\n",
       "      <th>employee_residence</th>\n",
       "      <th>remote_ratio</th>\n",
       "      <th>company_location</th>\n",
       "      <th>company_size</th>\n",
       "    </tr>\n",
       "  </thead>\n",
       "  <tbody>\n",
       "    <tr>\n",
       "      <th>115</th>\n",
       "      <td>2023</td>\n",
       "      <td>SE</td>\n",
       "      <td>FT</td>\n",
       "      <td>Data Scientist</td>\n",
       "      <td>150000</td>\n",
       "      <td>USD</td>\n",
       "      <td>150000</td>\n",
       "      <td>US</td>\n",
       "      <td>0</td>\n",
       "      <td>US</td>\n",
       "      <td>M</td>\n",
       "    </tr>\n",
       "    <tr>\n",
       "      <th>123</th>\n",
       "      <td>2023</td>\n",
       "      <td>SE</td>\n",
       "      <td>FT</td>\n",
       "      <td>Analytics Engineer</td>\n",
       "      <td>289800</td>\n",
       "      <td>USD</td>\n",
       "      <td>289800</td>\n",
       "      <td>US</td>\n",
       "      <td>0</td>\n",
       "      <td>US</td>\n",
       "      <td>M</td>\n",
       "    </tr>\n",
       "    <tr>\n",
       "      <th>153</th>\n",
       "      <td>2023</td>\n",
       "      <td>MI</td>\n",
       "      <td>FT</td>\n",
       "      <td>Data Engineer</td>\n",
       "      <td>100000</td>\n",
       "      <td>USD</td>\n",
       "      <td>100000</td>\n",
       "      <td>US</td>\n",
       "      <td>100</td>\n",
       "      <td>US</td>\n",
       "      <td>M</td>\n",
       "    </tr>\n",
       "    <tr>\n",
       "      <th>154</th>\n",
       "      <td>2023</td>\n",
       "      <td>MI</td>\n",
       "      <td>FT</td>\n",
       "      <td>Data Engineer</td>\n",
       "      <td>70000</td>\n",
       "      <td>USD</td>\n",
       "      <td>70000</td>\n",
       "      <td>US</td>\n",
       "      <td>100</td>\n",
       "      <td>US</td>\n",
       "      <td>M</td>\n",
       "    </tr>\n",
       "    <tr>\n",
       "      <th>160</th>\n",
       "      <td>2023</td>\n",
       "      <td>SE</td>\n",
       "      <td>FT</td>\n",
       "      <td>Data Engineer</td>\n",
       "      <td>115000</td>\n",
       "      <td>USD</td>\n",
       "      <td>115000</td>\n",
       "      <td>US</td>\n",
       "      <td>0</td>\n",
       "      <td>US</td>\n",
       "      <td>M</td>\n",
       "    </tr>\n",
       "    <tr>\n",
       "      <th>...</th>\n",
       "      <td>...</td>\n",
       "      <td>...</td>\n",
       "      <td>...</td>\n",
       "      <td>...</td>\n",
       "      <td>...</td>\n",
       "      <td>...</td>\n",
       "      <td>...</td>\n",
       "      <td>...</td>\n",
       "      <td>...</td>\n",
       "      <td>...</td>\n",
       "      <td>...</td>\n",
       "    </tr>\n",
       "    <tr>\n",
       "      <th>3439</th>\n",
       "      <td>2022</td>\n",
       "      <td>MI</td>\n",
       "      <td>FT</td>\n",
       "      <td>Data Scientist</td>\n",
       "      <td>78000</td>\n",
       "      <td>USD</td>\n",
       "      <td>78000</td>\n",
       "      <td>US</td>\n",
       "      <td>100</td>\n",
       "      <td>US</td>\n",
       "      <td>M</td>\n",
       "    </tr>\n",
       "    <tr>\n",
       "      <th>3440</th>\n",
       "      <td>2022</td>\n",
       "      <td>SE</td>\n",
       "      <td>FT</td>\n",
       "      <td>Data Engineer</td>\n",
       "      <td>135000</td>\n",
       "      <td>USD</td>\n",
       "      <td>135000</td>\n",
       "      <td>US</td>\n",
       "      <td>100</td>\n",
       "      <td>US</td>\n",
       "      <td>M</td>\n",
       "    </tr>\n",
       "    <tr>\n",
       "      <th>3441</th>\n",
       "      <td>2022</td>\n",
       "      <td>SE</td>\n",
       "      <td>FT</td>\n",
       "      <td>Data Engineer</td>\n",
       "      <td>115000</td>\n",
       "      <td>USD</td>\n",
       "      <td>115000</td>\n",
       "      <td>US</td>\n",
       "      <td>100</td>\n",
       "      <td>US</td>\n",
       "      <td>M</td>\n",
       "    </tr>\n",
       "    <tr>\n",
       "      <th>3586</th>\n",
       "      <td>2021</td>\n",
       "      <td>MI</td>\n",
       "      <td>FT</td>\n",
       "      <td>Data Engineer</td>\n",
       "      <td>200000</td>\n",
       "      <td>USD</td>\n",
       "      <td>200000</td>\n",
       "      <td>US</td>\n",
       "      <td>100</td>\n",
       "      <td>US</td>\n",
       "      <td>L</td>\n",
       "    </tr>\n",
       "    <tr>\n",
       "      <th>3709</th>\n",
       "      <td>2021</td>\n",
       "      <td>MI</td>\n",
       "      <td>FT</td>\n",
       "      <td>Data Scientist</td>\n",
       "      <td>76760</td>\n",
       "      <td>EUR</td>\n",
       "      <td>90734</td>\n",
       "      <td>DE</td>\n",
       "      <td>50</td>\n",
       "      <td>DE</td>\n",
       "      <td>L</td>\n",
       "    </tr>\n",
       "  </tbody>\n",
       "</table>\n",
       "<p>1171 rows × 11 columns</p>\n",
       "</div>"
      ],
      "text/plain": [
       "      work_year experience_level employment_type           job_title  salary  \\\n",
       "115        2023               SE              FT      Data Scientist  150000   \n",
       "123        2023               SE              FT  Analytics Engineer  289800   \n",
       "153        2023               MI              FT       Data Engineer  100000   \n",
       "154        2023               MI              FT       Data Engineer   70000   \n",
       "160        2023               SE              FT       Data Engineer  115000   \n",
       "...         ...              ...             ...                 ...     ...   \n",
       "3439       2022               MI              FT      Data Scientist   78000   \n",
       "3440       2022               SE              FT       Data Engineer  135000   \n",
       "3441       2022               SE              FT       Data Engineer  115000   \n",
       "3586       2021               MI              FT       Data Engineer  200000   \n",
       "3709       2021               MI              FT      Data Scientist   76760   \n",
       "\n",
       "     salary_currency  salary_in_usd employee_residence  remote_ratio  \\\n",
       "115              USD         150000                 US             0   \n",
       "123              USD         289800                 US             0   \n",
       "153              USD         100000                 US           100   \n",
       "154              USD          70000                 US           100   \n",
       "160              USD         115000                 US             0   \n",
       "...              ...            ...                ...           ...   \n",
       "3439             USD          78000                 US           100   \n",
       "3440             USD         135000                 US           100   \n",
       "3441             USD         115000                 US           100   \n",
       "3586             USD         200000                 US           100   \n",
       "3709             EUR          90734                 DE            50   \n",
       "\n",
       "     company_location company_size  \n",
       "115                US            M  \n",
       "123                US            M  \n",
       "153                US            M  \n",
       "154                US            M  \n",
       "160                US            M  \n",
       "...               ...          ...  \n",
       "3439               US            M  \n",
       "3440               US            M  \n",
       "3441               US            M  \n",
       "3586               US            L  \n",
       "3709               DE            L  \n",
       "\n",
       "[1171 rows x 11 columns]"
      ]
     },
     "execution_count": 22,
     "metadata": {},
     "output_type": "execute_result"
    }
   ],
   "source": [
    "# filtering the duplicate values from the dataframe\n",
    "df_ds_salaries[df_ds_salaries.duplicated()]"
   ]
  },
  {
   "cell_type": "code",
   "execution_count": 9,
   "id": "1994fc62",
   "metadata": {},
   "outputs": [
    {
     "data": {
      "text/plain": [
       "0       False\n",
       "1        True\n",
       "2        True\n",
       "3        True\n",
       "4        True\n",
       "        ...  \n",
       "3750     True\n",
       "3751     True\n",
       "3752     True\n",
       "3753     True\n",
       "3754     True\n",
       "Length: 3755, dtype: bool"
      ]
     },
     "execution_count": 9,
     "metadata": {},
     "output_type": "execute_result"
    }
   ],
   "source": [
    "# checking for duplicated values in a single column\n",
    "df_ds_salaries.duplicated(subset = 'work_year')"
   ]
  },
  {
   "cell_type": "markdown",
   "id": "1ddeb546",
   "metadata": {},
   "source": [
    "### View unique values in all the columns"
   ]
  },
  {
   "cell_type": "code",
   "execution_count": 23,
   "id": "941afd1b",
   "metadata": {
    "scrolled": false
   },
   "outputs": [
    {
     "name": "stdout",
     "output_type": "stream",
     "text": [
      "The unique values in the column 'work_year': [2023 2022 2020 2021]\n",
      "The unique values in the column 'experience_level': ['SE' 'MI' 'EN' 'EX']\n",
      "The unique values in the column 'employment_type': ['FT' 'CT' 'FL' 'PT']\n",
      "The unique values in the column 'job_title': ['Principal Data Scientist' 'ML Engineer' 'Data Scientist'\n",
      " 'Applied Scientist' 'Data Analyst' 'Data Modeler' 'Research Engineer'\n",
      " 'Analytics Engineer' 'Business Intelligence Engineer'\n",
      " 'Machine Learning Engineer' 'Data Strategist' 'Data Engineer'\n",
      " 'Computer Vision Engineer' 'Data Quality Analyst'\n",
      " 'Compliance Data Analyst' 'Data Architect'\n",
      " 'Applied Machine Learning Engineer' 'AI Developer' 'Research Scientist'\n",
      " 'Data Analytics Manager' 'Business Data Analyst' 'Applied Data Scientist'\n",
      " 'Staff Data Analyst' 'ETL Engineer' 'Data DevOps Engineer' 'Head of Data'\n",
      " 'Data Science Manager' 'Data Manager' 'Machine Learning Researcher'\n",
      " 'Big Data Engineer' 'Data Specialist' 'Lead Data Analyst'\n",
      " 'BI Data Engineer' 'Director of Data Science'\n",
      " 'Machine Learning Scientist' 'MLOps Engineer' 'AI Scientist'\n",
      " 'Autonomous Vehicle Technician' 'Applied Machine Learning Scientist'\n",
      " 'Lead Data Scientist' 'Cloud Database Engineer' 'Financial Data Analyst'\n",
      " 'Data Infrastructure Engineer' 'Software Data Engineer' 'AI Programmer'\n",
      " 'Data Operations Engineer' 'BI Developer' 'Data Science Lead'\n",
      " 'Deep Learning Researcher' 'BI Analyst' 'Data Science Consultant'\n",
      " 'Data Analytics Specialist' 'Machine Learning Infrastructure Engineer'\n",
      " 'BI Data Analyst' 'Head of Data Science' 'Insight Analyst'\n",
      " 'Deep Learning Engineer' 'Machine Learning Software Engineer'\n",
      " 'Big Data Architect' 'Product Data Analyst'\n",
      " 'Computer Vision Software Engineer' 'Azure Data Engineer'\n",
      " 'Marketing Data Engineer' 'Data Analytics Lead' 'Data Lead'\n",
      " 'Data Science Engineer' 'Machine Learning Research Engineer'\n",
      " 'NLP Engineer' 'Manager Data Management' 'Machine Learning Developer'\n",
      " '3D Computer Vision Researcher' 'Principal Machine Learning Engineer'\n",
      " 'Data Analytics Engineer' 'Data Analytics Consultant'\n",
      " 'Data Management Specialist' 'Data Science Tech Lead'\n",
      " 'Data Scientist Lead' 'Cloud Data Engineer' 'Data Operations Analyst'\n",
      " 'Marketing Data Analyst' 'Power BI Developer' 'Product Data Scientist'\n",
      " 'Principal Data Architect' 'Machine Learning Manager'\n",
      " 'Lead Machine Learning Engineer' 'ETL Developer' 'Cloud Data Architect'\n",
      " 'Lead Data Engineer' 'Head of Machine Learning' 'Principal Data Analyst'\n",
      " 'Principal Data Engineer' 'Staff Data Scientist' 'Finance Data Analyst']\n",
      "The unique values in the column 'salary': [   80000    30000    25500   175000   120000   222200   136000   219000\n",
      "   141000   147100    90700   130000   100000   213660   130760   170000\n",
      "   150000   110000   275000   174000   230000   143200   225000   156400\n",
      "   200000    90000    72000   253200   342810   184590   162500   105380\n",
      "    64500  1650000   204620   110680   270703   221484   212750   185000\n",
      "   262000   245000   275300   183500   218500   199098   203300   123600\n",
      "   189110   139000   258750   231500   166000   172500   110500   238000\n",
      "   176000   237000   201450   309400   159100   115000    81500   280000\n",
      "   210000   280100   168100   193500   510000    65000   300000   185900\n",
      "   129300   140000    45000    36000   105000    70000   163196   145885\n",
      "   217000   202800   104300   145000   165000   132300   179170    94300\n",
      "   152500   116450   247300   133800   203000   133000   220000    54000\n",
      "   289800   214000   179820   143860   283200   188800   214200   252000\n",
      "   129000   155000   161800   141600   342300   176100    85000   138784\n",
      "    83270    75000   204500   138900   318300   212200    95000   195000\n",
      "   160000  1700000    38000    35000   168400   105200   190000   241000\n",
      "    55000    15000    47500   250000   228000   186000   180000    50000\n",
      "   205000   215000   247500   172200   224000  1400000   128000   329500\n",
      "   269600   203500   152000   239000   122900   191765   134236   112000\n",
      "    84000   135000   105500   293000   148500   240500   123700   152900\n",
      "   117100   173000   113000   260000   184000   149500   127075   219535\n",
      "   146115   199000   162000   221000   153000   187000   179000   109000\n",
      "   142000   198800   125000    86000   106000   280700   150450   250500\n",
      "   159500   130001    71907    93918    51962   257000   147000   222000\n",
      "   133200   156000   304000   161200    84570   240000   183600   289076\n",
      "   202353   157750   104650    68000    60000   181000   154000   146000\n",
      "    64200    56100   208450   170550   171250   113750   153600   100500\n",
      "   182500   121500   203100   114500    92700    61800   258000   167500\n",
      "   106500    57000   286000   207000   223250   178600   353200   249300\n",
      "   297300   198200   151800   317070   170730    20000   108000   134000\n",
      "   124000   124500   148700   125600   120250   183000  1500000   216000\n",
      "   143865   115092   132000   208049   128500   149600   102000   106800\n",
      "   151000     7000    40000   143000    42000   111000   265000   235000\n",
      "    60400   164000    56000    83500    52500   201036   134024    62000\n",
      "    58000   172000   163800   126000   139500   109400   205600   105700\n",
      "   239748   159832   186300   102500   149040   113900   172600   107900\n",
      "   180180   106020   376080   213120   206500   121600   194500   115500\n",
      "   115934    81666   206000   138000    92000    48000    87000   299500\n",
      "   245100   115100    73900   141288    94192   210914   116704   185700\n",
      "   169000   110600   193000   136850   276000   178500   161000    83300\n",
      "   112700   128750   106250   188500   117000   104500   127000    94000\n",
      "   210550   153300   161500   119500   148750   146300   153400   122700\n",
      "   123900   340000   121700   310000   149076    82365    85500    97750\n",
      "   201000   122000   116990    82920   142200   205920   171600    78000\n",
      "   116000    36050    34320    93800    67000  1300000  1000000   104000\n",
      "   152380   121904   128280   106900   192000   170500    60027    44737\n",
      "   131899   104891   124740    65488    72200    64980   179975    86466\n",
      "   168000   167580    87980   202000   148000   269000   158000   197000\n",
      "   290000   172800   300240   200160   370000   137500   323300   184700\n",
      "   153088   183310   144000    66000   126277   126500   272000   259000\n",
      "   101400   288000   215050   198000   114000   209300   182200   227000\n",
      "    52000   226700   133300   124999   800000    63000   253750   169200\n",
      "   213580   163625    12000   375000  1350000   231250   138750   284310\n",
      "   153090   225900   385000    93919   241871   133832   192500   216100\n",
      "   140800   284000   236000   248100   145900   155850   102544   151410\n",
      "   115360  1050000    25000   107000    23000   182750   314100   195800\n",
      "   350000   262500   209450   158677   103200    61200    59000   174500\n",
      "   107250   119000   285800   154600  5000000   124234    74540    79000\n",
      "   141290    74178   107500  1060000     6000  1440000   840000  1250000\n",
      "   182000   234100   223800   172100   232200   167200   291500   196200\n",
      "   150900   167000    96100   196000   126100   187500    24000   165750\n",
      "    89700    55250   175308   100706   229000  4000000   272550    64000\n",
      "   143100   180560   115440  1125000   261500   134500  1100000    94500\n",
      "   127500    51000   248400  4460000   149000   246000    10000  2500000\n",
      "  2800000   249500   149850   122500   102640    66100   122600   159000\n",
      "   255000   166700   194000   129400    89200   178750   197430   134760\n",
      "    99000   105120    75360   171000    13000   213000   227200    61000\n",
      "   243000   178000    96000   137000   189750   140250   191200   179500\n",
      "    26000   118000   177000   131000   193750   116250   208000    45555\n",
      "  6600000   140700    33000   154560   123648   177500   192564   144854\n",
      "   179305   142127   315000   243900   156600    77300    45600   184100\n",
      "   198440    47000   187200   116100   159699   138938    76000   125404\n",
      "   123000    92250    97000   157000   345600   230400   175950   130050\n",
      "   236600    27000   400000     8000   123400    88100   139600    85700\n",
      "    98200    98000   144200  3000000   188700   160395   191475   141525\n",
      "   156868   178800   132100   229998   154545    99750    68400   236900\n",
      "   159200   243225   179775   218000   145300   195400   131300   195700\n",
      "   130500   141300   102100    83000  1800000   633000   179400   193900\n",
      "   222640   182160   297500    93000    73000    40300   136994   101570\n",
      "    97500   212800   142800   500000   130240    83376    65004    84958\n",
      "    66822    81000    46000   204100   136100     7500    77000    28500\n",
      "   119300   146200   124270   185800   137400   148800  7500000    82000\n",
      "    32400   216200   144100   175100   189650   164996    99450   188100\n",
      "   139860   248700   167100   450000   189500   140100   177600   202900\n",
      "   900000  4200000   260500    73400    49500  2400000   206699    99100\n",
      "   221300    74000   249260   185400   128875    93700   136260   109280\n",
      "   150075   110925    22800   112900    90320    62500   105400    43200\n",
      "   215300   158200   209100   165400   132320   208775   147800  6000000\n",
      "   100800   140400    82900    63900   112300   108800   242000   165220\n",
      "   120160   124190   181940   220110   160080   106260   120600    84900\n",
      "   136620    99360   161342   137141   211500   138600   192400    61300\n",
      "    95550   136600   167875   205300   200100    70500   116150    99050\n",
      "   192600   266400   150260    69000   324000   185100   104890    53000\n",
      "    88000    66500   121000    29000    69999    52800   405000   380000\n",
      "  8500000  7000000    38400    82500   700000     8760    51999    41000\n",
      "    13400   103000   270000    45760    44000  2250000    37456 11000000\n",
      "    14000  2200000   188000  2100000    51400    61500   720000    31000\n",
      "    91000  1600000   256000    72500    65720   111775    93150    21600\n",
      "  4900000  1200000    21000  1799997     9272   120500    21844    22000\n",
      "    76760  1672000   420000 30400000    32000   416000    40900  4450000\n",
      "   423000   325000    34000    69600   435000    37000    19000    18000\n",
      "    39600  1335000  1450000   190200   138350   130800   412000]\n",
      "The unique values in the column 'salary_currency': ['EUR' 'USD' 'INR' 'HKD' 'CHF' 'GBP' 'AUD' 'SGD' 'CAD' 'ILS' 'BRL' 'THB'\n",
      " 'PLN' 'HUF' 'CZK' 'DKK' 'JPY' 'MXN' 'TRY' 'CLP']\n",
      "The unique values in the column 'salary_in_usd': [ 85847  30000  25500 ...  28369 412000  94665]\n",
      "The unique values in the column 'employee_residence': ['ES' 'US' 'CA' 'DE' 'GB' 'NG' 'IN' 'HK' 'PT' 'NL' 'CH' 'CF' 'FR' 'AU'\n",
      " 'FI' 'UA' 'IE' 'IL' 'GH' 'AT' 'CO' 'SG' 'SE' 'SI' 'MX' 'UZ' 'BR' 'TH'\n",
      " 'HR' 'PL' 'KW' 'VN' 'CY' 'AR' 'AM' 'BA' 'KE' 'GR' 'MK' 'LV' 'RO' 'PK'\n",
      " 'IT' 'MA' 'LT' 'BE' 'AS' 'IR' 'HU' 'SK' 'CN' 'CZ' 'CR' 'TR' 'CL' 'PR'\n",
      " 'DK' 'BO' 'PH' 'DO' 'EG' 'ID' 'AE' 'MY' 'JP' 'EE' 'HN' 'TN' 'RU' 'DZ'\n",
      " 'IQ' 'BG' 'JE' 'RS' 'NZ' 'MD' 'LU' 'MT']\n",
      "The unique values in the column 'remote_ratio': [100   0  50]\n",
      "The unique values in the column 'company_location': ['ES' 'US' 'CA' 'DE' 'GB' 'NG' 'IN' 'HK' 'NL' 'CH' 'CF' 'FR' 'FI' 'UA'\n",
      " 'IE' 'IL' 'GH' 'CO' 'SG' 'AU' 'SE' 'SI' 'MX' 'BR' 'PT' 'RU' 'TH' 'HR'\n",
      " 'VN' 'EE' 'AM' 'BA' 'KE' 'GR' 'MK' 'LV' 'RO' 'PK' 'IT' 'MA' 'PL' 'AL'\n",
      " 'AR' 'LT' 'AS' 'CR' 'IR' 'BS' 'HU' 'AT' 'SK' 'CZ' 'TR' 'PR' 'DK' 'BO'\n",
      " 'PH' 'BE' 'ID' 'EG' 'AE' 'LU' 'MY' 'HN' 'JP' 'DZ' 'IQ' 'CN' 'NZ' 'CL'\n",
      " 'MD' 'MT']\n",
      "The unique values in the column 'company_size': ['L' 'S' 'M']\n"
     ]
    }
   ],
   "source": [
    "# iterating over columns to find unique values in all columns\n",
    "for column in df_ds_salaries:\n",
    "    unique_val = df_ds_salaries[column].unique()\n",
    "    print(f\"The unique values in the column '{column}': {unique_val}\")"
   ]
  },
  {
   "cell_type": "markdown",
   "id": "417325e5",
   "metadata": {},
   "source": [
    "### Renaming the value of experience_level column"
   ]
  },
  {
   "cell_type": "code",
   "execution_count": 24,
   "id": "044e1647",
   "metadata": {},
   "outputs": [
    {
     "data": {
      "text/plain": [
       "0       SE\n",
       "1       MI\n",
       "2       MI\n",
       "3       SE\n",
       "4       SE\n",
       "        ..\n",
       "3750    SE\n",
       "3751    MI\n",
       "3752    EN\n",
       "3753    EN\n",
       "3754    SE\n",
       "Name: experience_level, Length: 3755, dtype: object"
      ]
     },
     "execution_count": 24,
     "metadata": {},
     "output_type": "execute_result"
    }
   ],
   "source": [
    "# selecting the experience level column\n",
    "df_ds_salaries['experience_level']"
   ]
  },
  {
   "cell_type": "code",
   "execution_count": 92,
   "id": "c8a552bd",
   "metadata": {},
   "outputs": [
    {
     "data": {
      "text/plain": [
       "0       Senior Level\n",
       "1       Medium Level\n",
       "2       Medium Level\n",
       "3       Senior Level\n",
       "4       Senior Level\n",
       "            ...     \n",
       "3750    Senior Level\n",
       "3751    Medium Level\n",
       "3752     Entry Level\n",
       "3753     Entry Level\n",
       "3754    Senior Level\n",
       "Name: experience_level, Length: 3755, dtype: object"
      ]
     },
     "execution_count": 92,
     "metadata": {},
     "output_type": "execute_result"
    }
   ],
   "source": [
    "# renaming the values of the experience level column\n",
    "df_ds_salaries['experience_level'].replace(['SE','MI','EN','EX'],\n",
    "['Senior Level', 'Medium Level', 'Entry Level', 'Executive Level'])"
   ]
  },
  {
   "cell_type": "code",
   "execution_count": 93,
   "id": "b5b3a46c",
   "metadata": {},
   "outputs": [
    {
     "data": {
      "text/html": [
       "<div>\n",
       "<style scoped>\n",
       "    .dataframe tbody tr th:only-of-type {\n",
       "        vertical-align: middle;\n",
       "    }\n",
       "\n",
       "    .dataframe tbody tr th {\n",
       "        vertical-align: top;\n",
       "    }\n",
       "\n",
       "    .dataframe thead th {\n",
       "        text-align: right;\n",
       "    }\n",
       "</style>\n",
       "<table border=\"1\" class=\"dataframe\">\n",
       "  <thead>\n",
       "    <tr style=\"text-align: right;\">\n",
       "      <th></th>\n",
       "      <th>work_year</th>\n",
       "      <th>experience_level</th>\n",
       "      <th>employment_type</th>\n",
       "      <th>job_title</th>\n",
       "      <th>salary</th>\n",
       "      <th>salary_currency</th>\n",
       "      <th>salary_in_usd</th>\n",
       "      <th>employee_residence</th>\n",
       "      <th>remote_ratio</th>\n",
       "      <th>company_location</th>\n",
       "      <th>company_size</th>\n",
       "    </tr>\n",
       "  </thead>\n",
       "  <tbody>\n",
       "    <tr>\n",
       "      <th>0</th>\n",
       "      <td>2023</td>\n",
       "      <td>SE</td>\n",
       "      <td>FT</td>\n",
       "      <td>Principal Data Scientist</td>\n",
       "      <td>80000</td>\n",
       "      <td>EUR</td>\n",
       "      <td>85847</td>\n",
       "      <td>ES</td>\n",
       "      <td>100</td>\n",
       "      <td>ES</td>\n",
       "      <td>L</td>\n",
       "    </tr>\n",
       "    <tr>\n",
       "      <th>1</th>\n",
       "      <td>2023</td>\n",
       "      <td>MI</td>\n",
       "      <td>CT</td>\n",
       "      <td>ML Engineer</td>\n",
       "      <td>30000</td>\n",
       "      <td>USD</td>\n",
       "      <td>30000</td>\n",
       "      <td>US</td>\n",
       "      <td>100</td>\n",
       "      <td>US</td>\n",
       "      <td>S</td>\n",
       "    </tr>\n",
       "  </tbody>\n",
       "</table>\n",
       "</div>"
      ],
      "text/plain": [
       "   work_year experience_level employment_type                 job_title  \\\n",
       "0       2023               SE              FT  Principal Data Scientist   \n",
       "1       2023               MI              CT               ML Engineer   \n",
       "\n",
       "   salary salary_currency  salary_in_usd employee_residence  remote_ratio  \\\n",
       "0   80000             EUR          85847                 ES           100   \n",
       "1   30000             USD          30000                 US           100   \n",
       "\n",
       "  company_location company_size  \n",
       "0               ES            L  \n",
       "1               US            S  "
      ]
     },
     "execution_count": 93,
     "metadata": {},
     "output_type": "execute_result"
    }
   ],
   "source": [
    "# viewing the top 2 rows in the dataframe\n",
    "df_ds_salaries.head(2)"
   ]
  },
  {
   "cell_type": "code",
   "execution_count": 19,
   "id": "134bf739",
   "metadata": {},
   "outputs": [],
   "source": [
    "# commiting the changes to dataframe\n",
    "df_ds_salaries['experience_level'].replace(['SE','MI','EN','EX'],\n",
    "['Senior Level', 'Medium Level', 'Entry Level', 'Executive Level'], inplace = True)"
   ]
  },
  {
   "cell_type": "code",
   "execution_count": 20,
   "id": "bca26211",
   "metadata": {},
   "outputs": [
    {
     "data": {
      "text/html": [
       "<div>\n",
       "<style scoped>\n",
       "    .dataframe tbody tr th:only-of-type {\n",
       "        vertical-align: middle;\n",
       "    }\n",
       "\n",
       "    .dataframe tbody tr th {\n",
       "        vertical-align: top;\n",
       "    }\n",
       "\n",
       "    .dataframe thead th {\n",
       "        text-align: right;\n",
       "    }\n",
       "</style>\n",
       "<table border=\"1\" class=\"dataframe\">\n",
       "  <thead>\n",
       "    <tr style=\"text-align: right;\">\n",
       "      <th></th>\n",
       "      <th>work_year</th>\n",
       "      <th>experience_level</th>\n",
       "      <th>employment_type</th>\n",
       "      <th>job_title</th>\n",
       "      <th>salary</th>\n",
       "      <th>salary_currency</th>\n",
       "      <th>salary_in_usd</th>\n",
       "      <th>employee_residence</th>\n",
       "      <th>remote_ratio</th>\n",
       "      <th>company_location</th>\n",
       "      <th>company_size</th>\n",
       "    </tr>\n",
       "  </thead>\n",
       "  <tbody>\n",
       "    <tr>\n",
       "      <th>0</th>\n",
       "      <td>2023</td>\n",
       "      <td>Senior Level</td>\n",
       "      <td>FT</td>\n",
       "      <td>Principal Data Scientist</td>\n",
       "      <td>80000</td>\n",
       "      <td>EUR</td>\n",
       "      <td>85847</td>\n",
       "      <td>ES</td>\n",
       "      <td>100</td>\n",
       "      <td>ES</td>\n",
       "      <td>L</td>\n",
       "    </tr>\n",
       "    <tr>\n",
       "      <th>1</th>\n",
       "      <td>2023</td>\n",
       "      <td>Medium Level</td>\n",
       "      <td>CT</td>\n",
       "      <td>ML Engineer</td>\n",
       "      <td>30000</td>\n",
       "      <td>USD</td>\n",
       "      <td>30000</td>\n",
       "      <td>US</td>\n",
       "      <td>100</td>\n",
       "      <td>US</td>\n",
       "      <td>S</td>\n",
       "    </tr>\n",
       "  </tbody>\n",
       "</table>\n",
       "</div>"
      ],
      "text/plain": [
       "   work_year experience_level employment_type                 job_title  \\\n",
       "0       2023     Senior Level              FT  Principal Data Scientist   \n",
       "1       2023     Medium Level              CT               ML Engineer   \n",
       "\n",
       "   salary salary_currency  salary_in_usd employee_residence  remote_ratio  \\\n",
       "0   80000             EUR          85847                 ES           100   \n",
       "1   30000             USD          30000                 US           100   \n",
       "\n",
       "  company_location company_size  \n",
       "0               ES            L  \n",
       "1               US            S  "
      ]
     },
     "execution_count": 20,
     "metadata": {},
     "output_type": "execute_result"
    }
   ],
   "source": [
    "# viewing the top 2 rows in the dataframe\n",
    "df_ds_salaries.head(2)"
   ]
  },
  {
   "cell_type": "markdown",
   "id": "3ccfc3a6",
   "metadata": {},
   "source": [
    "# Data Analysis"
   ]
  },
  {
   "cell_type": "markdown",
   "id": "5754b7fb",
   "metadata": {},
   "source": [
    "### Summary statistics of sum, mean, standard deviation, skewness, and kurtosis of any chosen variable"
   ]
  },
  {
   "cell_type": "code",
   "execution_count": 26,
   "id": "c4494425",
   "metadata": {},
   "outputs": [
    {
     "name": "stdout",
     "output_type": "stream",
     "text": [
      "Sum of salary: 716061872\n"
     ]
    }
   ],
   "source": [
    "# finding the sum of salary\n",
    "sum_salary = df_ds_salaries['salary'].sum()\n",
    "print(f\"Sum of salary: {sum_salary}\")"
   ]
  },
  {
   "cell_type": "code",
   "execution_count": 27,
   "id": "35ceb696",
   "metadata": {},
   "outputs": [
    {
     "name": "stdout",
     "output_type": "stream",
     "text": [
      "Mean of salary: 190695.57177097205\n"
     ]
    }
   ],
   "source": [
    "# finding average salary\n",
    "mean_salary = df_ds_salaries['salary'].mean()\n",
    "print(f\"Mean of salary: {mean_salary}\")"
   ]
  },
  {
   "cell_type": "code",
   "execution_count": 28,
   "id": "dd638caf",
   "metadata": {},
   "outputs": [
    {
     "name": "stdout",
     "output_type": "stream",
     "text": [
      "Standard deviation of salary: 671676.5005079071\n"
     ]
    }
   ],
   "source": [
    "# finding standard deviation of salary\n",
    "std_salary = df_ds_salaries['salary'].std()\n",
    "print(f\"Standard deviation of salary: {std_salary}\")"
   ]
  },
  {
   "cell_type": "code",
   "execution_count": 29,
   "id": "fe063f31",
   "metadata": {},
   "outputs": [
    {
     "name": "stdout",
     "output_type": "stream",
     "text": [
      "Skewness of salary: 28.937932169111605\n"
     ]
    }
   ],
   "source": [
    "# finding skewness of salary\n",
    "skew_salary = df_ds_salaries['salary'].skew()\n",
    "print(f\"Skewness of salary: {skew_salary}\")"
   ]
  },
  {
   "cell_type": "code",
   "execution_count": 30,
   "id": "d4cc0099",
   "metadata": {},
   "outputs": [
    {
     "name": "stdout",
     "output_type": "stream",
     "text": [
      "Kurtosis of salary: 1147.5673898192115\n"
     ]
    }
   ],
   "source": [
    "# finding kurtosis of salary\n",
    "kurtosis_salary = df_ds_salaries['salary'].kurtosis()\n",
    "print(f\"Kurtosis of salary: {kurtosis_salary}\")"
   ]
  },
  {
   "cell_type": "code",
   "execution_count": 31,
   "id": "6a0fa57a",
   "metadata": {},
   "outputs": [
    {
     "name": "stdout",
     "output_type": "stream",
     "text": [
      "Summary statistics of 'salary' variable\n"
     ]
    },
    {
     "data": {
      "text/plain": [
       "count    3.755000e+03\n",
       "mean     1.906956e+05\n",
       "std      6.716765e+05\n",
       "min      6.000000e+03\n",
       "25%      1.000000e+05\n",
       "50%      1.380000e+05\n",
       "75%      1.800000e+05\n",
       "max      3.040000e+07\n",
       "Name: salary, dtype: float64"
      ]
     },
     "execution_count": 31,
     "metadata": {},
     "output_type": "execute_result"
    }
   ],
   "source": [
    "# finding the summary statistics\n",
    "summary_stat_salary = df_ds_salaries['salary'].describe()\n",
    "print(\"Summary statistics of 'salary' variable\")\n",
    "summary_stat_salary"
   ]
  },
  {
   "cell_type": "markdown",
   "id": "1e6b1d43",
   "metadata": {},
   "source": [
    "### Finding correlation between all variables"
   ]
  },
  {
   "cell_type": "code",
   "execution_count": 106,
   "id": "8a2f8979",
   "metadata": {},
   "outputs": [
    {
     "data": {
      "text/html": [
       "<div>\n",
       "<style scoped>\n",
       "    .dataframe tbody tr th:only-of-type {\n",
       "        vertical-align: middle;\n",
       "    }\n",
       "\n",
       "    .dataframe tbody tr th {\n",
       "        vertical-align: top;\n",
       "    }\n",
       "\n",
       "    .dataframe thead th {\n",
       "        text-align: right;\n",
       "    }\n",
       "</style>\n",
       "<table border=\"1\" class=\"dataframe\">\n",
       "  <thead>\n",
       "    <tr style=\"text-align: right;\">\n",
       "      <th></th>\n",
       "      <th>work_year</th>\n",
       "      <th>experience_level</th>\n",
       "      <th>employment_type</th>\n",
       "      <th>job_title</th>\n",
       "      <th>salary</th>\n",
       "      <th>salary_currency</th>\n",
       "      <th>salary_in_usd</th>\n",
       "      <th>employee_residence</th>\n",
       "      <th>remote_ratio</th>\n",
       "      <th>company_location</th>\n",
       "      <th>company_size</th>\n",
       "    </tr>\n",
       "  </thead>\n",
       "  <tbody>\n",
       "    <tr>\n",
       "      <th>0</th>\n",
       "      <td>2023</td>\n",
       "      <td>Senior Level</td>\n",
       "      <td>FT</td>\n",
       "      <td>Principal Data Scientist</td>\n",
       "      <td>80000</td>\n",
       "      <td>EUR</td>\n",
       "      <td>85847</td>\n",
       "      <td>ES</td>\n",
       "      <td>100</td>\n",
       "      <td>ES</td>\n",
       "      <td>L</td>\n",
       "    </tr>\n",
       "  </tbody>\n",
       "</table>\n",
       "</div>"
      ],
      "text/plain": [
       "   work_year experience_level employment_type                 job_title  \\\n",
       "0       2023     Senior Level              FT  Principal Data Scientist   \n",
       "\n",
       "   salary salary_currency  salary_in_usd employee_residence  remote_ratio  \\\n",
       "0   80000             EUR          85847                 ES           100   \n",
       "\n",
       "  company_location company_size  \n",
       "0               ES            L  "
      ]
     },
     "execution_count": 106,
     "metadata": {},
     "output_type": "execute_result"
    }
   ],
   "source": [
    "# viewing the top 1 row in the dataframe\n",
    "df_ds_salaries.head(1)"
   ]
  },
  {
   "cell_type": "code",
   "execution_count": 47,
   "id": "de5cf59b",
   "metadata": {},
   "outputs": [
    {
     "name": "stdout",
     "output_type": "stream",
     "text": [
      "The correlation between work year and salary is -0.09472388764164348\n"
     ]
    }
   ],
   "source": [
    "# Correlation between work year and salary\n",
    "\n",
    "correlation = df_ds_salaries['work_year'].corr(df_ds_salaries['salary'])\n",
    "print(f'The correlation between work year and salary is {correlation}')"
   ]
  },
  {
   "cell_type": "code",
   "execution_count": 48,
   "id": "2ae0ea39",
   "metadata": {},
   "outputs": [
    {
     "name": "stdout",
     "output_type": "stream",
     "text": [
      "The correlation between work year and salary in USD is 0.2282900224328787\n"
     ]
    }
   ],
   "source": [
    "# Correlation between work year and salary in USD\n",
    "\n",
    "correlation = df_ds_salaries['work_year'].corr(df_ds_salaries['salary_in_usd'])\n",
    "print(f'The correlation between work year and salary in USD is {correlation}') "
   ]
  },
  {
   "cell_type": "code",
   "execution_count": 99,
   "id": "f40a6a98",
   "metadata": {},
   "outputs": [
    {
     "name": "stdout",
     "output_type": "stream",
     "text": [
      "The correlation between salary and salary in USD is -0.023675813981249284\n"
     ]
    }
   ],
   "source": [
    "# Correlation between salary and salary in USD\n",
    "\n",
    "correlation = df_ds_salaries['salary'].corr(df_ds_salaries['salary_in_usd'])\n",
    "print(f'The correlation between salary and salary in USD is {correlation}') "
   ]
  },
  {
   "cell_type": "markdown",
   "id": "85dd09b2",
   "metadata": {},
   "source": [
    "# Data Exploration"
   ]
  },
  {
   "cell_type": "markdown",
   "id": "07ce5ea9",
   "metadata": {},
   "source": [
    "### Finding top 15 jobs and making bar graph of salary"
   ]
  },
  {
   "cell_type": "code",
   "execution_count": 14,
   "id": "54b70ad9",
   "metadata": {
    "scrolled": false
   },
   "outputs": [
    {
     "data": {
      "text/plain": [
       "job_title\n",
       "Data Engineer                 1040\n",
       "Data Scientist                 840\n",
       "Data Analyst                   612\n",
       "Machine Learning Engineer      289\n",
       "Analytics Engineer             103\n",
       "Data Architect                 101\n",
       "Research Scientist              82\n",
       "Applied Scientist               58\n",
       "Data Science Manager            58\n",
       "Research Engineer               37\n",
       "ML Engineer                     34\n",
       "Data Manager                    29\n",
       "Machine Learning Scientist      26\n",
       "Data Science Consultant         24\n",
       "Data Analytics Manager          22\n",
       "dtype: int64"
      ]
     },
     "execution_count": 14,
     "metadata": {},
     "output_type": "execute_result"
    }
   ],
   "source": [
    "# finding top 15 jobs\n",
    "top_15_jobs = df_ds_salaries.groupby('job_title').size().nlargest(15)\n",
    "top_15_jobs"
   ]
  },
  {
   "cell_type": "code",
   "execution_count": 15,
   "id": "c5f32eab",
   "metadata": {},
   "outputs": [
    {
     "data": {
      "text/html": [
       "<div>\n",
       "<style scoped>\n",
       "    .dataframe tbody tr th:only-of-type {\n",
       "        vertical-align: middle;\n",
       "    }\n",
       "\n",
       "    .dataframe tbody tr th {\n",
       "        vertical-align: top;\n",
       "    }\n",
       "\n",
       "    .dataframe thead th {\n",
       "        text-align: right;\n",
       "    }\n",
       "</style>\n",
       "<table border=\"1\" class=\"dataframe\">\n",
       "  <thead>\n",
       "    <tr style=\"text-align: right;\">\n",
       "      <th></th>\n",
       "      <th>frequency</th>\n",
       "    </tr>\n",
       "    <tr>\n",
       "      <th>job_title</th>\n",
       "      <th></th>\n",
       "    </tr>\n",
       "  </thead>\n",
       "  <tbody>\n",
       "    <tr>\n",
       "      <th>Data Engineer</th>\n",
       "      <td>1040</td>\n",
       "    </tr>\n",
       "    <tr>\n",
       "      <th>Data Scientist</th>\n",
       "      <td>840</td>\n",
       "    </tr>\n",
       "    <tr>\n",
       "      <th>Data Analyst</th>\n",
       "      <td>612</td>\n",
       "    </tr>\n",
       "    <tr>\n",
       "      <th>Machine Learning Engineer</th>\n",
       "      <td>289</td>\n",
       "    </tr>\n",
       "    <tr>\n",
       "      <th>Analytics Engineer</th>\n",
       "      <td>103</td>\n",
       "    </tr>\n",
       "    <tr>\n",
       "      <th>Data Architect</th>\n",
       "      <td>101</td>\n",
       "    </tr>\n",
       "    <tr>\n",
       "      <th>Research Scientist</th>\n",
       "      <td>82</td>\n",
       "    </tr>\n",
       "    <tr>\n",
       "      <th>Applied Scientist</th>\n",
       "      <td>58</td>\n",
       "    </tr>\n",
       "    <tr>\n",
       "      <th>Data Science Manager</th>\n",
       "      <td>58</td>\n",
       "    </tr>\n",
       "    <tr>\n",
       "      <th>Research Engineer</th>\n",
       "      <td>37</td>\n",
       "    </tr>\n",
       "    <tr>\n",
       "      <th>ML Engineer</th>\n",
       "      <td>34</td>\n",
       "    </tr>\n",
       "    <tr>\n",
       "      <th>Data Manager</th>\n",
       "      <td>29</td>\n",
       "    </tr>\n",
       "    <tr>\n",
       "      <th>Machine Learning Scientist</th>\n",
       "      <td>26</td>\n",
       "    </tr>\n",
       "    <tr>\n",
       "      <th>Data Science Consultant</th>\n",
       "      <td>24</td>\n",
       "    </tr>\n",
       "    <tr>\n",
       "      <th>Data Analytics Manager</th>\n",
       "      <td>22</td>\n",
       "    </tr>\n",
       "  </tbody>\n",
       "</table>\n",
       "</div>"
      ],
      "text/plain": [
       "                            frequency\n",
       "job_title                            \n",
       "Data Engineer                    1040\n",
       "Data Scientist                    840\n",
       "Data Analyst                      612\n",
       "Machine Learning Engineer         289\n",
       "Analytics Engineer                103\n",
       "Data Architect                    101\n",
       "Research Scientist                 82\n",
       "Applied Scientist                  58\n",
       "Data Science Manager               58\n",
       "Research Engineer                  37\n",
       "ML Engineer                        34\n",
       "Data Manager                       29\n",
       "Machine Learning Scientist         26\n",
       "Data Science Consultant            24\n",
       "Data Analytics Manager             22"
      ]
     },
     "execution_count": 15,
     "metadata": {},
     "output_type": "execute_result"
    }
   ],
   "source": [
    "# converting series to dataframe\n",
    "df_top_15_jobs = pd.DataFrame(top_15_jobs, columns=['frequency']) \n",
    "df_top_15_jobs"
   ]
  },
  {
   "cell_type": "code",
   "execution_count": 8,
   "id": "4472b9d7",
   "metadata": {},
   "outputs": [],
   "source": [
    "import matplotlib.pyplot as plt"
   ]
  },
  {
   "cell_type": "code",
   "execution_count": 48,
   "id": "2571c79a",
   "metadata": {},
   "outputs": [
    {
     "data": {
      "image/png": "[encoded data removed]",
      "text/plain": [
       "<Figure size 1200x600 with 1 Axes>"
      ]
     },
     "metadata": {},
     "output_type": "display_data"
    }
   ],
   "source": [
    "# making the bar graph of top 15 jobs\n",
    "plt.figure(figsize=(12,6))\n",
    "plt.bar(df_top_15_jobs.index, df_top_15_jobs['frequency'], color = '#E52165', width = 0.5)\n",
    "\n",
    "plt.title('Top 15 Jobs',\n",
    "         fontsize = 14,\n",
    "         weight = 'bold')\n",
    "plt.xlabel('Top 15 Jobs')\n",
    "plt.ylabel('count')\n",
    "plt.xticks(rotation = 90) #rotate the x label\n",
    "plt.tight_layout() # to make the labels fit properly\n",
    "plt.show()"
   ]
  },
  {
   "cell_type": "code",
   "execution_count": 67,
   "id": "305ac48a",
   "metadata": {},
   "outputs": [
    {
     "data": {
      "text/html": [
       "<div>\n",
       "<style scoped>\n",
       "    .dataframe tbody tr th:only-of-type {\n",
       "        vertical-align: middle;\n",
       "    }\n",
       "\n",
       "    .dataframe tbody tr th {\n",
       "        vertical-align: top;\n",
       "    }\n",
       "\n",
       "    .dataframe thead th {\n",
       "        text-align: right;\n",
       "    }\n",
       "</style>\n",
       "<table border=\"1\" class=\"dataframe\">\n",
       "  <thead>\n",
       "    <tr style=\"text-align: right;\">\n",
       "      <th></th>\n",
       "      <th>work_year</th>\n",
       "      <th>experience_level</th>\n",
       "      <th>employment_type</th>\n",
       "      <th>job_title</th>\n",
       "      <th>salary</th>\n",
       "      <th>salary_currency</th>\n",
       "      <th>salary_in_usd</th>\n",
       "      <th>employee_residence</th>\n",
       "      <th>remote_ratio</th>\n",
       "      <th>company_location</th>\n",
       "      <th>company_size</th>\n",
       "    </tr>\n",
       "  </thead>\n",
       "  <tbody>\n",
       "    <tr>\n",
       "      <th>1</th>\n",
       "      <td>2023</td>\n",
       "      <td>MI</td>\n",
       "      <td>CT</td>\n",
       "      <td>ML Engineer</td>\n",
       "      <td>30000</td>\n",
       "      <td>USD</td>\n",
       "      <td>30000</td>\n",
       "      <td>US</td>\n",
       "      <td>100</td>\n",
       "      <td>US</td>\n",
       "      <td>S</td>\n",
       "    </tr>\n",
       "    <tr>\n",
       "      <th>2</th>\n",
       "      <td>2023</td>\n",
       "      <td>MI</td>\n",
       "      <td>CT</td>\n",
       "      <td>ML Engineer</td>\n",
       "      <td>25500</td>\n",
       "      <td>USD</td>\n",
       "      <td>25500</td>\n",
       "      <td>US</td>\n",
       "      <td>100</td>\n",
       "      <td>US</td>\n",
       "      <td>S</td>\n",
       "    </tr>\n",
       "    <tr>\n",
       "      <th>3</th>\n",
       "      <td>2023</td>\n",
       "      <td>SE</td>\n",
       "      <td>FT</td>\n",
       "      <td>Data Scientist</td>\n",
       "      <td>175000</td>\n",
       "      <td>USD</td>\n",
       "      <td>175000</td>\n",
       "      <td>CA</td>\n",
       "      <td>100</td>\n",
       "      <td>CA</td>\n",
       "      <td>M</td>\n",
       "    </tr>\n",
       "    <tr>\n",
       "      <th>4</th>\n",
       "      <td>2023</td>\n",
       "      <td>SE</td>\n",
       "      <td>FT</td>\n",
       "      <td>Data Scientist</td>\n",
       "      <td>120000</td>\n",
       "      <td>USD</td>\n",
       "      <td>120000</td>\n",
       "      <td>CA</td>\n",
       "      <td>100</td>\n",
       "      <td>CA</td>\n",
       "      <td>M</td>\n",
       "    </tr>\n",
       "    <tr>\n",
       "      <th>5</th>\n",
       "      <td>2023</td>\n",
       "      <td>SE</td>\n",
       "      <td>FT</td>\n",
       "      <td>Applied Scientist</td>\n",
       "      <td>222200</td>\n",
       "      <td>USD</td>\n",
       "      <td>222200</td>\n",
       "      <td>US</td>\n",
       "      <td>0</td>\n",
       "      <td>US</td>\n",
       "      <td>L</td>\n",
       "    </tr>\n",
       "    <tr>\n",
       "      <th>...</th>\n",
       "      <td>...</td>\n",
       "      <td>...</td>\n",
       "      <td>...</td>\n",
       "      <td>...</td>\n",
       "      <td>...</td>\n",
       "      <td>...</td>\n",
       "      <td>...</td>\n",
       "      <td>...</td>\n",
       "      <td>...</td>\n",
       "      <td>...</td>\n",
       "      <td>...</td>\n",
       "    </tr>\n",
       "    <tr>\n",
       "      <th>3746</th>\n",
       "      <td>2021</td>\n",
       "      <td>MI</td>\n",
       "      <td>FT</td>\n",
       "      <td>Data Scientist</td>\n",
       "      <td>160000</td>\n",
       "      <td>SGD</td>\n",
       "      <td>119059</td>\n",
       "      <td>SG</td>\n",
       "      <td>100</td>\n",
       "      <td>IL</td>\n",
       "      <td>M</td>\n",
       "    </tr>\n",
       "    <tr>\n",
       "      <th>3748</th>\n",
       "      <td>2021</td>\n",
       "      <td>MI</td>\n",
       "      <td>FT</td>\n",
       "      <td>Data Engineer</td>\n",
       "      <td>24000</td>\n",
       "      <td>EUR</td>\n",
       "      <td>28369</td>\n",
       "      <td>MT</td>\n",
       "      <td>50</td>\n",
       "      <td>MT</td>\n",
       "      <td>L</td>\n",
       "    </tr>\n",
       "    <tr>\n",
       "      <th>3750</th>\n",
       "      <td>2020</td>\n",
       "      <td>SE</td>\n",
       "      <td>FT</td>\n",
       "      <td>Data Scientist</td>\n",
       "      <td>412000</td>\n",
       "      <td>USD</td>\n",
       "      <td>412000</td>\n",
       "      <td>US</td>\n",
       "      <td>100</td>\n",
       "      <td>US</td>\n",
       "      <td>L</td>\n",
       "    </tr>\n",
       "    <tr>\n",
       "      <th>3752</th>\n",
       "      <td>2020</td>\n",
       "      <td>EN</td>\n",
       "      <td>FT</td>\n",
       "      <td>Data Scientist</td>\n",
       "      <td>105000</td>\n",
       "      <td>USD</td>\n",
       "      <td>105000</td>\n",
       "      <td>US</td>\n",
       "      <td>100</td>\n",
       "      <td>US</td>\n",
       "      <td>S</td>\n",
       "    </tr>\n",
       "    <tr>\n",
       "      <th>3754</th>\n",
       "      <td>2021</td>\n",
       "      <td>SE</td>\n",
       "      <td>FT</td>\n",
       "      <td>Data Science Manager</td>\n",
       "      <td>7000000</td>\n",
       "      <td>INR</td>\n",
       "      <td>94665</td>\n",
       "      <td>IN</td>\n",
       "      <td>50</td>\n",
       "      <td>IN</td>\n",
       "      <td>L</td>\n",
       "    </tr>\n",
       "  </tbody>\n",
       "</table>\n",
       "<p>3355 rows × 11 columns</p>\n",
       "</div>"
      ],
      "text/plain": [
       "      work_year experience_level employment_type             job_title  \\\n",
       "1          2023               MI              CT           ML Engineer   \n",
       "2          2023               MI              CT           ML Engineer   \n",
       "3          2023               SE              FT        Data Scientist   \n",
       "4          2023               SE              FT        Data Scientist   \n",
       "5          2023               SE              FT     Applied Scientist   \n",
       "...         ...              ...             ...                   ...   \n",
       "3746       2021               MI              FT        Data Scientist   \n",
       "3748       2021               MI              FT         Data Engineer   \n",
       "3750       2020               SE              FT        Data Scientist   \n",
       "3752       2020               EN              FT        Data Scientist   \n",
       "3754       2021               SE              FT  Data Science Manager   \n",
       "\n",
       "       salary salary_currency  salary_in_usd employee_residence  remote_ratio  \\\n",
       "1       30000             USD          30000                 US           100   \n",
       "2       25500             USD          25500                 US           100   \n",
       "3      175000             USD         175000                 CA           100   \n",
       "4      120000             USD         120000                 CA           100   \n",
       "5      222200             USD         222200                 US             0   \n",
       "...       ...             ...            ...                ...           ...   \n",
       "3746   160000             SGD         119059                 SG           100   \n",
       "3748    24000             EUR          28369                 MT            50   \n",
       "3750   412000             USD         412000                 US           100   \n",
       "3752   105000             USD         105000                 US           100   \n",
       "3754  7000000             INR          94665                 IN            50   \n",
       "\n",
       "     company_location company_size  \n",
       "1                  US            S  \n",
       "2                  US            S  \n",
       "3                  CA            M  \n",
       "4                  CA            M  \n",
       "5                  US            L  \n",
       "...               ...          ...  \n",
       "3746               IL            M  \n",
       "3748               MT            L  \n",
       "3750               US            L  \n",
       "3752               US            S  \n",
       "3754               IN            L  \n",
       "\n",
       "[3355 rows x 11 columns]"
      ]
     },
     "execution_count": 67,
     "metadata": {},
     "output_type": "execute_result"
    }
   ],
   "source": [
    "# filtering the top 15 jobs data in the original data frame\n",
    "top_15_jobs_data = df_ds_salaries[df_ds_salaries['job_title'].isin(df_top_15_jobs.index)]\n",
    "top_15_jobs_data"
   ]
  },
  {
   "cell_type": "code",
   "execution_count": 72,
   "id": "31bf25af",
   "metadata": {},
   "outputs": [
    {
     "data": {
      "text/plain": [
       "job_title\n",
       "Analytics Engineer            151352.621359\n",
       "Applied Scientist             190264.482759\n",
       "Data Analyst                  116374.045752\n",
       "Data Analytics Manager        141879.090909\n",
       "Data Architect                161713.772277\n",
       "Data Engineer                 156574.963462\n",
       "Data Manager                  117147.034483\n",
       "Data Science Consultant       141937.500000\n",
       "Data Science Manager          379390.413793\n",
       "Data Scientist                239073.476190\n",
       "ML Engineer                   609997.911765\n",
       "Machine Learning Engineer     182216.034602\n",
       "Machine Learning Scientist    163155.769231\n",
       "Research Engineer             162752.810811\n",
       "Research Scientist            160768.890244\n",
       "Name: salary, dtype: float64"
      ]
     },
     "execution_count": 72,
     "metadata": {},
     "output_type": "execute_result"
    }
   ],
   "source": [
    "# finding the average salary of the top 15 jobs\n",
    "avg_salary_top_15_jobs = top_15_jobs_data.groupby('job_title')['salary'].mean()\n",
    "avg_salary_top_15_jobs"
   ]
  },
  {
   "cell_type": "code",
   "execution_count": 83,
   "id": "b9fc905b",
   "metadata": {},
   "outputs": [
    {
     "data": {
      "image/png": "[encoded data removed]",
      "text/plain": [
       "<Figure size 1200x600 with 1 Axes>"
      ]
     },
     "metadata": {},
     "output_type": "display_data"
    }
   ],
   "source": [
    "# bar graph of the average salary of the top 15 jobs\n",
    "plt.figure(figsize=(12,6))\n",
    "\n",
    "plt.bar(avg_salary_top_15_jobs.index, avg_salary_top_15_jobs.values, color = '#8BC462')\n",
    "\n",
    "plt.title('Average Salary of Top 15 Jobs',\n",
    "         fontsize = 14,\n",
    "         weight = 'bold')\n",
    "plt.xlabel('Top 15 Jobs')\n",
    "plt.ylabel('Average Salary')\n",
    "plt.xticks(rotation = 90)\n",
    "plt.tight_layout()\n",
    "plt.show()"
   ]
  },
  {
   "cell_type": "markdown",
   "id": "b61f9e4f",
   "metadata": {},
   "source": [
    "### Finding job with the highest salary and illustrating it with bar graph"
   ]
  },
  {
   "cell_type": "code",
   "execution_count": 16,
   "id": "d326b94e",
   "metadata": {},
   "outputs": [
    {
     "data": {
      "text/plain": [
       "30400000"
      ]
     },
     "execution_count": 16,
     "metadata": {},
     "output_type": "execute_result"
    }
   ],
   "source": [
    "# finding the max salary\n",
    "max_salary = max(df_ds_salaries['salary'])\n",
    "max_salary"
   ]
  },
  {
   "cell_type": "code",
   "execution_count": 17,
   "id": "bcd22198",
   "metadata": {},
   "outputs": [
    {
     "data": {
      "text/html": [
       "<div>\n",
       "<style scoped>\n",
       "    .dataframe tbody tr th:only-of-type {\n",
       "        vertical-align: middle;\n",
       "    }\n",
       "\n",
       "    .dataframe tbody tr th {\n",
       "        vertical-align: top;\n",
       "    }\n",
       "\n",
       "    .dataframe thead th {\n",
       "        text-align: right;\n",
       "    }\n",
       "</style>\n",
       "<table border=\"1\" class=\"dataframe\">\n",
       "  <thead>\n",
       "    <tr style=\"text-align: right;\">\n",
       "      <th></th>\n",
       "      <th>work_year</th>\n",
       "      <th>experience_level</th>\n",
       "      <th>employment_type</th>\n",
       "      <th>job_title</th>\n",
       "      <th>salary</th>\n",
       "      <th>salary_currency</th>\n",
       "      <th>salary_in_usd</th>\n",
       "      <th>employee_residence</th>\n",
       "      <th>remote_ratio</th>\n",
       "      <th>company_location</th>\n",
       "      <th>company_size</th>\n",
       "    </tr>\n",
       "  </thead>\n",
       "  <tbody>\n",
       "    <tr>\n",
       "      <th>3669</th>\n",
       "      <td>2021</td>\n",
       "      <td>MI</td>\n",
       "      <td>FT</td>\n",
       "      <td>Data Scientist</td>\n",
       "      <td>30400000</td>\n",
       "      <td>CLP</td>\n",
       "      <td>40038</td>\n",
       "      <td>CL</td>\n",
       "      <td>100</td>\n",
       "      <td>CL</td>\n",
       "      <td>L</td>\n",
       "    </tr>\n",
       "  </tbody>\n",
       "</table>\n",
       "</div>"
      ],
      "text/plain": [
       "      work_year experience_level employment_type       job_title    salary  \\\n",
       "3669       2021               MI              FT  Data Scientist  30400000   \n",
       "\n",
       "     salary_currency  salary_in_usd employee_residence  remote_ratio  \\\n",
       "3669             CLP          40038                 CL           100   \n",
       "\n",
       "     company_location company_size  \n",
       "3669               CL            L  "
      ]
     },
     "execution_count": 17,
     "metadata": {},
     "output_type": "execute_result"
    }
   ],
   "source": [
    "# finding the job with highest salary\n",
    "df_highest_salary = df_ds_salaries[df_ds_salaries['salary'] == max_salary]\n",
    "df_highest_salary"
   ]
  },
  {
   "cell_type": "code",
   "execution_count": 21,
   "id": "f4631009",
   "metadata": {},
   "outputs": [
    {
     "data": {
      "image/png": "[encoded data removed]",
      "text/plain": [
       "<Figure size 640x480 with 1 Axes>"
      ]
     },
     "metadata": {},
     "output_type": "display_data"
    }
   ],
   "source": [
    "# bar graph of highest salary\n",
    "plt.bar(df_highest_salary['job_title'], df_highest_salary['salary'], color='#89CFF0', width=0.4)\n",
    "\n",
    "plt.show()"
   ]
  },
  {
   "cell_type": "code",
   "execution_count": 24,
   "id": "f872057a",
   "metadata": {
    "scrolled": false
   },
   "outputs": [
    {
     "data": {
      "image/png": "[encoded data removed]",
      "text/plain": [
       "<Figure size 640x480 with 1 Axes>"
      ]
     },
     "metadata": {},
     "output_type": "display_data"
    }
   ],
   "source": [
    "# bar graph of highest salary\n",
    "\n",
    "plt.bar(df_highest_salary['job_title'], df_highest_salary['salary'], color='#89CFF0', width=0.4)\n",
    "\n",
    "plt.xlabel(\"Job Title\")\n",
    "plt.ylabel(\"Salary\")\n",
    "plt.title(\"Bar graph of the highest salary\")\n",
    "\n",
    "plt.show()"
   ]
  },
  {
   "cell_type": "markdown",
   "id": "34af4e54",
   "metadata": {},
   "source": [
    "### Finding salaries based on experience level and illustrating it with bar graph"
   ]
  },
  {
   "cell_type": "code",
   "execution_count": 97,
   "id": "94f171cc",
   "metadata": {
    "scrolled": true
   },
   "outputs": [
    {
     "data": {
      "text/html": [
       "<div>\n",
       "<style scoped>\n",
       "    .dataframe tbody tr th:only-of-type {\n",
       "        vertical-align: middle;\n",
       "    }\n",
       "\n",
       "    .dataframe tbody tr th {\n",
       "        vertical-align: top;\n",
       "    }\n",
       "\n",
       "    .dataframe thead th {\n",
       "        text-align: right;\n",
       "    }\n",
       "</style>\n",
       "<table border=\"1\" class=\"dataframe\">\n",
       "  <thead>\n",
       "    <tr style=\"text-align: right;\">\n",
       "      <th></th>\n",
       "      <th>work_year</th>\n",
       "      <th>experience_level</th>\n",
       "      <th>employment_type</th>\n",
       "      <th>job_title</th>\n",
       "      <th>salary</th>\n",
       "      <th>salary_currency</th>\n",
       "      <th>salary_in_usd</th>\n",
       "      <th>employee_residence</th>\n",
       "      <th>remote_ratio</th>\n",
       "      <th>company_location</th>\n",
       "      <th>company_size</th>\n",
       "    </tr>\n",
       "  </thead>\n",
       "  <tbody>\n",
       "    <tr>\n",
       "      <th>0</th>\n",
       "      <td>2023</td>\n",
       "      <td>Senior Level</td>\n",
       "      <td>FT</td>\n",
       "      <td>Principal Data Scientist</td>\n",
       "      <td>80000</td>\n",
       "      <td>EUR</td>\n",
       "      <td>85847</td>\n",
       "      <td>ES</td>\n",
       "      <td>100</td>\n",
       "      <td>ES</td>\n",
       "      <td>L</td>\n",
       "    </tr>\n",
       "  </tbody>\n",
       "</table>\n",
       "</div>"
      ],
      "text/plain": [
       "   work_year experience_level employment_type                 job_title  \\\n",
       "0       2023     Senior Level              FT  Principal Data Scientist   \n",
       "\n",
       "   salary salary_currency  salary_in_usd employee_residence  remote_ratio  \\\n",
       "0   80000             EUR          85847                 ES           100   \n",
       "\n",
       "  company_location company_size  \n",
       "0               ES            L  "
      ]
     },
     "execution_count": 97,
     "metadata": {},
     "output_type": "execute_result"
    }
   ],
   "source": [
    "# Selecting the top 1 row in the data frame\n",
    "df_ds_salaries.head(1)"
   ]
  },
  {
   "cell_type": "code",
   "execution_count": 118,
   "id": "d3afb347",
   "metadata": {},
   "outputs": [
    {
     "data": {
      "text/plain": [
       "experience_level\n",
       "Entry Level        188381.178125\n",
       "Executive Level    246802.201754\n",
       "Medium Level       248200.306832\n",
       "Senior Level       170048.965421\n",
       "Name: salary, dtype: float64"
      ]
     },
     "execution_count": 118,
     "metadata": {},
     "output_type": "execute_result"
    }
   ],
   "source": [
    "# Finding average salaries based on experience level\n",
    "avg_salary_exp_lvl = df_ds_salaries.groupby('experience_level')['salary'].mean()\n",
    "avg_salary_exp_lvl"
   ]
  },
  {
   "cell_type": "code",
   "execution_count": 126,
   "id": "cc04627e",
   "metadata": {},
   "outputs": [
    {
     "data": {
      "image/png": "[encoded data removed]",
      "text/plain": [
       "<Figure size 640x480 with 1 Axes>"
      ]
     },
     "metadata": {},
     "output_type": "display_data"
    }
   ],
   "source": [
    "# Creating bar graph for average salaries based on experience level\n",
    "plt.bar(avg_salary_exp_lvl.index, avg_salary_exp_lvl.values, color = '#77B0AA')\n",
    "\n",
    "plt.title('Average Salary by Experience Level',\n",
    "         fontsize = 14,\n",
    "         weight = 'bold')\n",
    "plt.xlabel('Experience Level',\n",
    "          fontsize = 9)\n",
    "plt.ylabel('Average Salary',\n",
    "          fontsize = 9)\n",
    "plt.show()"
   ]
  },
  {
   "cell_type": "code",
   "execution_count": 121,
   "id": "cfbbd004",
   "metadata": {},
   "outputs": [
    {
     "data": {
      "text/plain": [
       "experience_level\n",
       "Entry Level         60281977\n",
       "Executive Level     28135451\n",
       "Medium Level       199801247\n",
       "Senior Level       427843197\n",
       "Name: salary, dtype: int64"
      ]
     },
     "execution_count": 121,
     "metadata": {},
     "output_type": "execute_result"
    }
   ],
   "source": [
    "# Finding total salaries based on experience level\n",
    "total_salary_exp_lvl = df_ds_salaries.groupby('experience_level')['salary'].sum()\n",
    "total_salary_exp_lvl"
   ]
  },
  {
   "cell_type": "code",
   "execution_count": 125,
   "id": "2689aa28",
   "metadata": {},
   "outputs": [
    {
     "data": {
      "image/png": "[encoded data removed]",
      "text/plain": [
       "<Figure size 640x480 with 1 Axes>"
      ]
     },
     "metadata": {},
     "output_type": "display_data"
    }
   ],
   "source": [
    "# Creating bar graph for total salaries based on experience level\n",
    "plt.bar(total_salary_exp_lvl.index, total_salary_exp_lvl.values, color = '#77B0AA')\n",
    "\n",
    "plt.title('Total Salary by Experience Level',\n",
    "         fontsize = 14,\n",
    "         weight = 'bold')\n",
    "plt.xlabel('Experience Level',\n",
    "          fontsize = 9)\n",
    "plt.ylabel('Total Salary',\n",
    "          fontsize = 9)\n",
    "plt.show()"
   ]
  },
  {
   "cell_type": "markdown",
   "id": "37ddd250",
   "metadata": {},
   "source": [
    "### Histogram and Box Plot"
   ]
  },
  {
   "cell_type": "markdown",
   "id": "36416482",
   "metadata": {},
   "source": [
    "### Histogram"
   ]
  },
  {
   "cell_type": "code",
   "execution_count": 148,
   "id": "c6abaf81",
   "metadata": {},
   "outputs": [
    {
     "data": {
      "text/plain": [
       "array([[<Axes: title={'center': 'salary_in_usd'}>]], dtype=object)"
      ]
     },
     "execution_count": 148,
     "metadata": {},
     "output_type": "execute_result"
    },
    {
     "data": {
      "image/png": "[encoded data removed]",
      "text/plain": [
       "<Figure size 640x480 with 1 Axes>"
      ]
     },
     "metadata": {},
     "output_type": "display_data"
    }
   ],
   "source": [
    "# creating histogram in pandas method 1\n",
    "df_ds_salaries.hist('salary_in_usd') "
   ]
  },
  {
   "cell_type": "code",
   "execution_count": 149,
   "id": "bc85fff4",
   "metadata": {},
   "outputs": [
    {
     "data": {
      "text/plain": [
       "array([[<Axes: title={'center': 'salary_in_usd'}>]], dtype=object)"
      ]
     },
     "execution_count": 149,
     "metadata": {},
     "output_type": "execute_result"
    },
    {
     "data": {
      "image/png": "[encoded data removed]",
      "text/plain": [
       "<Figure size 640x480 with 1 Axes>"
      ]
     },
     "metadata": {},
     "output_type": "display_data"
    }
   ],
   "source": [
    "# creating histogram in pandas method 2\n",
    "df_ds_salaries.hist(column = 'salary_in_usd')"
   ]
  },
  {
   "cell_type": "code",
   "execution_count": 150,
   "id": "06d5857e",
   "metadata": {},
   "outputs": [
    {
     "data": {
      "text/plain": [
       "<Axes: >"
      ]
     },
     "execution_count": 150,
     "metadata": {},
     "output_type": "execute_result"
    },
    {
     "data": {
      "image/png": "[encoded data removed]",
      "text/plain": [
       "<Figure size 640x480 with 1 Axes>"
      ]
     },
     "metadata": {},
     "output_type": "display_data"
    }
   ],
   "source": [
    "# creating histogram in pandas method 3\n",
    "df_ds_salaries['salary_in_usd'].hist()"
   ]
  },
  {
   "cell_type": "code",
   "execution_count": 173,
   "id": "8312e909",
   "metadata": {},
   "outputs": [
    {
     "data": {
      "image/png": "[encoded data removed]",
      "text/plain": [
       "<Figure size 640x480 with 1 Axes>"
      ]
     },
     "metadata": {},
     "output_type": "display_data"
    }
   ],
   "source": [
    "# creating histogram using matplolib\n",
    "plt.hist(df_ds_salaries['salary_in_usd'])\n",
    "plt.show() # show plot"
   ]
  },
  {
   "cell_type": "code",
   "execution_count": 174,
   "id": "667a6e32",
   "metadata": {},
   "outputs": [
    {
     "data": {
      "image/png": "[encoded data removed]",
      "text/plain": [
       "<Figure size 640x480 with 1 Axes>"
      ]
     },
     "metadata": {},
     "output_type": "display_data"
    },
    {
     "data": {
      "text/plain": [
       "<Figure size 640x480 with 0 Axes>"
      ]
     },
     "metadata": {},
     "output_type": "display_data"
    }
   ],
   "source": [
    "# annotating the plots\n",
    "plt.hist(df_ds_salaries['salary_in_usd'],\n",
    "    color = '#34568B')\n",
    "plt.title(\n",
    "    'Distribution of Salary in USD', \n",
    "    fontsize = 14, \n",
    "    weight = \"bold\")\n",
    "plt.xlabel('Salary in (USD)')\n",
    "plt.ylabel('frequency')\n",
    "plt.show()\n",
    "sns.despine() # remove top and right spine using the Seaborn library"
   ]
  },
  {
   "cell_type": "markdown",
   "id": "82834a8d",
   "metadata": {},
   "source": [
    "### Box Plot"
   ]
  },
  {
   "cell_type": "code",
   "execution_count": 183,
   "id": "b0bb45f9",
   "metadata": {
    "scrolled": false
   },
   "outputs": [
    {
     "data": {
      "image/png": "[encoded data removed]",
      "text/plain": [
       "<Figure size 640x480 with 1 Axes>"
      ]
     },
     "metadata": {},
     "output_type": "display_data"
    }
   ],
   "source": [
    "# creating box plot\n",
    "plt.boxplot(df_ds_salaries['work_year'])\n",
    "plt.show()"
   ]
  }
 ],
 "metadata": {
  "kernelspec": {
   "display_name": "Python 3 (ipykernel)",
   "language": "python",
   "name": "python3"
  },
  "language_info": {
   "codemirror_mode": {
    "name": "ipython",
    "version": 3
   },
   "file_extension": ".py",
   "mimetype": "text/x-python",
   "name": "python",
   "nbconvert_exporter": "python",
   "pygments_lexer": "ipython3",
   "version": "3.11.5"
  }
 },
 "nbformat": 4,
 "nbformat_minor": 5
}
